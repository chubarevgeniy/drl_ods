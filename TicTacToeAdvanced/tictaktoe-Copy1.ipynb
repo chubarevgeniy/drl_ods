{
 "cells": [
  {
   "cell_type": "code",
   "execution_count": 56,
   "id": "33dc1c70",
   "metadata": {},
   "outputs": [],
   "source": [
    "from TicTacToeEnv import TicTacToeAdvanced\n",
    "import numpy as np\n",
    "import torch\n",
    "import torch.nn as nn\n",
    "import matplotlib.pyplot as plt\n",
    "from torch.distributions import Categorical\n",
    "import random"
   ]
  },
  {
   "cell_type": "code",
   "execution_count": 122,
   "id": "c02a768d",
   "metadata": {},
   "outputs": [],
   "source": [
    "class PPO(nn.Module):\n",
    "    def __init__(self, state_dim, action_dim, gamma=0.99, batch_size=128, \n",
    "                 epsilon=0.2, epoch_n=100, pi_lr=1e-4, v_lr=1e-3):\n",
    "\n",
    "        super().__init__()\n",
    "        \n",
    "        self.action_dim = action_dim\n",
    "        \n",
    "        self.device = torch.device('cuda' if torch.cuda.is_available() else 'cpu')\n",
    "        \n",
    "        self.pi_model_base = nn.Sequential(nn.Linear(state_dim, 256), nn.LeakyReLU(0.1),\n",
    "                                           nn.Linear(256, 256), nn.LeakyReLU(0.1),\n",
    "                                           nn.Linear(256, 256), nn.LeakyReLU(0.1),\n",
    "                                      nn.Linear(256, 256), nn.LeakyReLU(0.1)).to(self.device)\n",
    "        self.pi_model_m = nn.Sequential(nn.Linear(256, action_dim), nn.Softmax()).to(self.device)\n",
    "        \n",
    "        self.gamma = gamma\n",
    "        self.batch_size = batch_size\n",
    "        self.l_epsilon = 1\n",
    "        self.epsilon = epsilon\n",
    "        self.epoch_n = epoch_n\n",
    "        self.pi_optimizer = torch.optim.Adam(\n",
    "            list(self.pi_model_base.parameters())+list(self.pi_model_m.parameters()),\n",
    "            lr=pi_lr)\n",
    "        \n",
    "    def forward_pi(self, state):\n",
    "        x = self.pi_model_base(state)\n",
    "        \n",
    "        return self.pi_model_m(x)\n",
    "\n",
    "    def get_action(self, state, rand_factor = 1):\n",
    "        logits = self.forward_pi(torch.FloatTensor(state))\n",
    "        norm = torch.ones((self.action_dim,))/self.action_dim\n",
    "        logits_ = (1-self.l_epsilon)*logits + self.l_epsilon*norm\n",
    "        dist = Categorical(logits_)\n",
    "        action = dist.sample()\n",
    "        return action.numpy()\n",
    "    \n",
    "    def to_cpu(self):\n",
    "        self.pi_model_base.to('cpu')\n",
    "        self.pi_model_m.to('cpu')\n",
    "        \n",
    "    def to_dev(self):\n",
    "        self.pi_model_base.to(self.device)\n",
    "        self.pi_model_m.to(self.device)\n",
    "\n",
    "    def fit(self, states, actions, rewards, dones):\n",
    "        \n",
    "        states, actions, rewards, dones = map(np.array, [states, actions, rewards, dones])\n",
    "        rewards, dones = rewards.reshape(-1, 1), dones.reshape(-1, 1)\n",
    "\n",
    "        returns = np.zeros(rewards.shape)\n",
    "        returns[-1] = rewards[-1]\n",
    "        for t in range(returns.shape[0] - 2, -1, -1):\n",
    "            returns[t] = rewards[t] + (1 - dones[t]) * self.gamma * returns[t + 1]\n",
    "        for t in range(returns.shape[0]):\n",
    "            if returns[t] < 0:\n",
    "                returns[t] *= 0.8\n",
    "\n",
    "        states, actions, returns = map(torch.FloatTensor, [states, actions, returns])\n",
    "        states, actions, returns = states.to(self.device), actions.to(self.device), returns.to(self.device)\n",
    "\n",
    "        logits = self.forward_pi(states)\n",
    "        norm = (torch.ones((self.action_dim,))/self.action_dim).to(self.device)\n",
    "        logits_ = (1-self.l_epsilon)*logits + self.l_epsilon*norm\n",
    "        dist = Categorical(logits_)\n",
    "        old_log_probs = dist.log_prob(actions).detach()\n",
    "\n",
    "        for epoch in range(self.epoch_n):\n",
    "            \n",
    "            idxs = np.random.permutation(returns.shape[0])\n",
    "            for i in range(0, returns.shape[0], self.batch_size):\n",
    "                b_idxs = idxs[i: i + self.batch_size]\n",
    "                b_states = states[b_idxs]\n",
    "                b_actions = actions[b_idxs]\n",
    "                b_returns = returns[b_idxs]\n",
    "                b_old_log_probs = old_log_probs[b_idxs]\n",
    "    \n",
    "                b_advantage = b_returns.detach()\n",
    "                \n",
    "                b_logits = self.forward_pi(b_states)\n",
    "                b_dist = Categorical(b_logits)\n",
    "                b_new_log_probs = b_dist.log_prob(b_actions)\n",
    "    \n",
    "                b_ratio = torch.exp(b_new_log_probs - b_old_log_probs)\n",
    "                pi_loss_1 = b_ratio * b_advantage.detach()\n",
    "                pi_loss_2 = torch.clamp(b_ratio, 1. - self.epsilon,  1. + self.epsilon) * b_advantage.detach()\n",
    "                pi_loss = - torch.mean(torch.min(pi_loss_1, pi_loss_2))\n",
    "                \n",
    "                pi_loss.backward()\n",
    "                self.pi_optimizer.step()\n",
    "                self.pi_optimizer.zero_grad()\n",
    "                "
   ]
  },
  {
   "cell_type": "code",
   "execution_count": 123,
   "id": "548366b9",
   "metadata": {},
   "outputs": [],
   "source": [
    "def validate(env, agent, runs=100, agent2 = None):\n",
    "    s = 0\n",
    "    for i in range(runs):\n",
    "        s+=butle(env,agent,is_agent_first = True)\n",
    "    for i in range(runs):\n",
    "        s+=butle(env,agent,is_agent_first = False)\n",
    "    return s/2/runs\n",
    "        \n",
    "\n",
    "def butle(env, agent, agent2 = None, is_agent_first = True):\n",
    "    done = False\n",
    "    state = env.reset()\n",
    "    t = 0\n",
    "    agent.l_epsilon = 0\n",
    "    while not done:\n",
    "        if t%2 == (is_agent_first+1)%2:\n",
    "            state = state.reshape(-1)\n",
    "            logits = agent.forward_pi(torch.FloatTensor(state*(-1)**(t%2+1)))\n",
    "            action = np.argmax(logits.detach().numpy())\n",
    "            state, reward, done, correct = env.step(action)\n",
    "            if done:\n",
    "                return reward\n",
    "        else:\n",
    "            state = state.reshape(-1)\n",
    "            if agent2 == None:\n",
    "                action = np.random.randint(agent.action_dim)\n",
    "            else:\n",
    "                logits = agent2.forward_pi(torch.FloatTensor(state*(-1)**(t%2+1)))\n",
    "                action = np.argmax(logits.detach().numpy())\n",
    "            state, reward, done, correct = env.step(action)\n",
    "            if done:\n",
    "                return -reward\n",
    "        t+=1"
   ]
  },
  {
   "cell_type": "code",
   "execution_count": 124,
   "id": "d5814a49",
   "metadata": {},
   "outputs": [],
   "source": [
    "env = TicTacToeAdvanced()"
   ]
  },
  {
   "cell_type": "code",
   "execution_count": 125,
   "id": "c524c80e",
   "metadata": {},
   "outputs": [
    {
     "name": "stdout",
     "output_type": "stream",
     "text": [
      "5\n",
      "CPU times: total: 0 ns\n",
      "Wall time: 6.1 ms\n"
     ]
    }
   ],
   "source": [
    "%%time\n",
    "\n",
    "state_dim = env.observation_space[0]**2\n",
    "action_dim = env.action_space['n']\n",
    "print(action_dim)\n",
    "\n",
    "agent = PPO(state_dim, action_dim, gamma=-0.95)\n",
    "\n",
    "total_rewards = []\n",
    "validation = []\n",
    "wins = []"
   ]
  },
  {
   "cell_type": "code",
   "execution_count": 129,
   "id": "146d0ae4",
   "metadata": {
    "scrolled": true
   },
   "outputs": [
    {
     "name": "stdout",
     "output_type": "stream",
     "text": [
      "227 6.00\r"
     ]
    },
    {
     "ename": "KeyboardInterrupt",
     "evalue": "",
     "output_type": "error",
     "traceback": [
      "\u001b[1;31m---------------------------------------------------------------------------\u001b[0m",
      "\u001b[1;31mKeyboardInterrupt\u001b[0m                         Traceback (most recent call last)",
      "File \u001b[1;32m<timed exec>:35\u001b[0m, in \u001b[0;36m<module>\u001b[1;34m\u001b[0m\n",
      "Input \u001b[1;32mIn [122]\u001b[0m, in \u001b[0;36mPPO.fit\u001b[1;34m(self, states, actions, rewards, dones)\u001b[0m\n\u001b[0;32m     81\u001b[0m b_logits \u001b[38;5;241m=\u001b[39m \u001b[38;5;28mself\u001b[39m\u001b[38;5;241m.\u001b[39mforward_pi(b_states)\n\u001b[0;32m     82\u001b[0m b_dist \u001b[38;5;241m=\u001b[39m Categorical(b_logits)\n\u001b[1;32m---> 83\u001b[0m b_new_log_probs \u001b[38;5;241m=\u001b[39m \u001b[43mb_dist\u001b[49m\u001b[38;5;241;43m.\u001b[39;49m\u001b[43mlog_prob\u001b[49m\u001b[43m(\u001b[49m\u001b[43mb_actions\u001b[49m\u001b[43m)\u001b[49m\n\u001b[0;32m     85\u001b[0m b_ratio \u001b[38;5;241m=\u001b[39m torch\u001b[38;5;241m.\u001b[39mexp(b_new_log_probs \u001b[38;5;241m-\u001b[39m b_old_log_probs)\n\u001b[0;32m     86\u001b[0m pi_loss_1 \u001b[38;5;241m=\u001b[39m b_ratio \u001b[38;5;241m*\u001b[39m b_advantage\u001b[38;5;241m.\u001b[39mdetach()\n",
      "File \u001b[1;32m~\\AppData\\Local\\Programs\\Python\\Python310\\lib\\site-packages\\torch\\distributions\\categorical.py:123\u001b[0m, in \u001b[0;36mCategorical.log_prob\u001b[1;34m(self, value)\u001b[0m\n\u001b[0;32m    121\u001b[0m     \u001b[38;5;28mself\u001b[39m\u001b[38;5;241m.\u001b[39m_validate_sample(value)\n\u001b[0;32m    122\u001b[0m value \u001b[38;5;241m=\u001b[39m value\u001b[38;5;241m.\u001b[39mlong()\u001b[38;5;241m.\u001b[39munsqueeze(\u001b[38;5;241m-\u001b[39m\u001b[38;5;241m1\u001b[39m)\n\u001b[1;32m--> 123\u001b[0m value, log_pmf \u001b[38;5;241m=\u001b[39m torch\u001b[38;5;241m.\u001b[39mbroadcast_tensors(value, \u001b[38;5;28;43mself\u001b[39;49m\u001b[38;5;241;43m.\u001b[39;49m\u001b[43mlogits\u001b[49m)\n\u001b[0;32m    124\u001b[0m value \u001b[38;5;241m=\u001b[39m value[\u001b[38;5;241m.\u001b[39m\u001b[38;5;241m.\u001b[39m\u001b[38;5;241m.\u001b[39m, :\u001b[38;5;241m1\u001b[39m]\n\u001b[0;32m    125\u001b[0m \u001b[38;5;28;01mreturn\u001b[39;00m log_pmf\u001b[38;5;241m.\u001b[39mgather(\u001b[38;5;241m-\u001b[39m\u001b[38;5;241m1\u001b[39m, value)\u001b[38;5;241m.\u001b[39msqueeze(\u001b[38;5;241m-\u001b[39m\u001b[38;5;241m1\u001b[39m)\n",
      "File \u001b[1;32m~\\AppData\\Local\\Programs\\Python\\Python310\\lib\\site-packages\\torch\\distributions\\utils.py:110\u001b[0m, in \u001b[0;36mlazy_property.__get__\u001b[1;34m(self, instance, obj_type)\u001b[0m\n\u001b[0;32m    108\u001b[0m     \u001b[38;5;28;01mreturn\u001b[39;00m _lazy_property_and_property(\u001b[38;5;28mself\u001b[39m\u001b[38;5;241m.\u001b[39mwrapped)\n\u001b[0;32m    109\u001b[0m \u001b[38;5;28;01mwith\u001b[39;00m torch\u001b[38;5;241m.\u001b[39menable_grad():\n\u001b[1;32m--> 110\u001b[0m     value \u001b[38;5;241m=\u001b[39m \u001b[38;5;28;43mself\u001b[39;49m\u001b[38;5;241;43m.\u001b[39;49m\u001b[43mwrapped\u001b[49m\u001b[43m(\u001b[49m\u001b[43minstance\u001b[49m\u001b[43m)\u001b[49m\n\u001b[0;32m    111\u001b[0m \u001b[38;5;28msetattr\u001b[39m(instance, \u001b[38;5;28mself\u001b[39m\u001b[38;5;241m.\u001b[39mwrapped\u001b[38;5;241m.\u001b[39m\u001b[38;5;18m__name__\u001b[39m, value)\n\u001b[0;32m    112\u001b[0m \u001b[38;5;28;01mreturn\u001b[39;00m value\n",
      "File \u001b[1;32m~\\AppData\\Local\\Programs\\Python\\Python310\\lib\\site-packages\\torch\\distributions\\categorical.py:90\u001b[0m, in \u001b[0;36mCategorical.logits\u001b[1;34m(self)\u001b[0m\n\u001b[0;32m     88\u001b[0m \u001b[38;5;129m@lazy_property\u001b[39m\n\u001b[0;32m     89\u001b[0m \u001b[38;5;28;01mdef\u001b[39;00m \u001b[38;5;21mlogits\u001b[39m(\u001b[38;5;28mself\u001b[39m):\n\u001b[1;32m---> 90\u001b[0m     \u001b[38;5;28;01mreturn\u001b[39;00m \u001b[43mprobs_to_logits\u001b[49m\u001b[43m(\u001b[49m\u001b[38;5;28;43mself\u001b[39;49m\u001b[38;5;241;43m.\u001b[39;49m\u001b[43mprobs\u001b[49m\u001b[43m)\u001b[49m\n",
      "File \u001b[1;32m~\\AppData\\Local\\Programs\\Python\\Python310\\lib\\site-packages\\torch\\distributions\\utils.py:92\u001b[0m, in \u001b[0;36mprobs_to_logits\u001b[1;34m(probs, is_binary)\u001b[0m\n\u001b[0;32m     90\u001b[0m \u001b[38;5;28;01mif\u001b[39;00m is_binary:\n\u001b[0;32m     91\u001b[0m     \u001b[38;5;28;01mreturn\u001b[39;00m torch\u001b[38;5;241m.\u001b[39mlog(ps_clamped) \u001b[38;5;241m-\u001b[39m torch\u001b[38;5;241m.\u001b[39mlog1p(\u001b[38;5;241m-\u001b[39mps_clamped)\n\u001b[1;32m---> 92\u001b[0m \u001b[38;5;28;01mreturn\u001b[39;00m \u001b[43mtorch\u001b[49m\u001b[38;5;241;43m.\u001b[39;49m\u001b[43mlog\u001b[49m\u001b[43m(\u001b[49m\u001b[43mps_clamped\u001b[49m\u001b[43m)\u001b[49m\n",
      "\u001b[1;31mKeyboardInterrupt\u001b[0m: "
     ]
    }
   ],
   "source": [
    "%%time\n",
    "\n",
    "episode_n = 300\n",
    "trajectory_n = 50\n",
    "\n",
    "for episode in range(episode_n):\n",
    "\n",
    "    states, actions, rewards, dones = [], [], [], []\n",
    "    \n",
    "    agent.to_cpu()\n",
    "    for _ in range(trajectory_n):\n",
    "        total_reward = 0\n",
    "\n",
    "        state = env.reset()\n",
    "        state = state.reshape(-1)\n",
    "        for t in range(30):\n",
    "            states.append(state*(-1)**(t%2+1))\n",
    "            \n",
    "            action = agent.get_action(state*(-1)**(t%2+1))\n",
    "            actions.append(action)\n",
    "            \n",
    "            state, reward, done, correct = env.step(action)\n",
    "            state = state.reshape(-1)\n",
    "            rewards.append(reward)\n",
    "            dones.append(done)\n",
    "\n",
    "            total_reward += reward\n",
    "            if done:\n",
    "                if reward>0:\n",
    "                    wins.append(state)\n",
    "                break\n",
    "            \n",
    "        total_rewards.append(total_reward)\n",
    "    if(episode%10==0):\n",
    "        validation.append(validate(env,agent,100))\n",
    "    agent.to_dev()\n",
    "    agent.fit(states, actions, rewards, dones)\n",
    "    agent.l_epsilon -= 0.015\n",
    "    if agent.l_epsilon <= 0.15:\n",
    "        agent.l_epsilon = 0.15\n",
    "    \n",
    "    print(episode,validation[-1],end='\\r')"
   ]
  },
  {
   "cell_type": "code",
   "execution_count": 130,
   "id": "3c6cb24a",
   "metadata": {},
   "outputs": [
    {
     "data": {
      "text/plain": [
       "[<matplotlib.lines.Line2D at 0x1bc9d624070>]"
      ]
     },
     "execution_count": 130,
     "metadata": {},
     "output_type": "execute_result"
    },
    {
     "data": {
      "image/png": "[encoded data removed]",
      "text/plain": [
       "<Figure size 432x288 with 1 Axes>"
      ]
     },
     "metadata": {
      "needs_background": "light"
     },
     "output_type": "display_data"
    }
   ],
   "source": [
    "plt.plot(validation)"
   ]
  },
  {
   "cell_type": "code",
   "execution_count": 146,
   "id": "39395336",
   "metadata": {},
   "outputs": [],
   "source": [
    "agent.l_epsilon = 0.15"
   ]
  },
  {
   "cell_type": "code",
   "execution_count": 131,
   "id": "9753cabb",
   "metadata": {
    "scrolled": true
   },
   "outputs": [
    {
     "name": "stdout",
     "output_type": "stream",
     "text": [
      "[[0. 0. 0. 0. 0.]\n",
      " [0. 0. 0. 0. 0.]\n",
      " [0. 0. 0. 0. 0.]\n",
      " [0. 0. 0. 0. 0.]\n",
      " [0. 0. 0. 0. 0.]]\n",
      "tensor([0.1106, 0.2159, 0.1560, 0.3230, 0.1946], grad_fn=<SoftmaxBackward0>)\n",
      "3 3\n",
      "0\n",
      "[[ 0.  0.  0.  0.  0.]\n",
      " [ 0.  0.  0.  0.  0.]\n",
      " [ 0.  0.  0.  0.  0.]\n",
      " [ 0.  0.  0.  0.  0.]\n",
      " [ 0.  0.  0. -1.  0.]]\n",
      "1-th player turn to act (enter number from 1 to 5)1\n",
      "0\n",
      "[[ 0.  0.  0.  0.  0.]\n",
      " [ 0.  0.  0.  0.  0.]\n",
      " [ 0.  0.  0.  0.  0.]\n",
      " [ 0.  0.  0.  0.  0.]\n",
      " [ 1.  0.  0. -1.  0.]]\n",
      "tensor([0.0778, 0.2009, 0.1065, 0.1829, 0.4319], grad_fn=<SoftmaxBackward0>)\n",
      "4 4\n",
      "0\n",
      "[[ 0.  0.  0.  0.  0.]\n",
      " [ 0.  0.  0.  0.  0.]\n",
      " [ 0.  0.  0.  0.  0.]\n",
      " [ 0.  0.  0.  0.  0.]\n",
      " [ 1.  0.  0. -1. -1.]]\n",
      "1-th player turn to act (enter number from 1 to 5)1\n",
      "0\n",
      "[[ 0.  0.  0.  0.  0.]\n",
      " [ 0.  0.  0.  0.  0.]\n",
      " [ 0.  0.  0.  0.  0.]\n",
      " [ 1.  0.  0.  0.  0.]\n",
      " [ 1.  0.  0. -1. -1.]]\n",
      "tensor([0.0899, 0.3547, 0.2598, 0.1605, 0.1351], grad_fn=<SoftmaxBackward0>)\n",
      "1 3\n",
      "0\n",
      "[[ 0.  0.  0.  0.  0.]\n",
      " [ 0.  0.  0.  0.  0.]\n",
      " [ 0.  0.  0.  0.  0.]\n",
      " [ 1.  0.  0.  0.  0.]\n",
      " [ 1. -1.  0. -1. -1.]]\n",
      "1-th player turn to act (enter number from 1 to 5)1\n",
      "0\n",
      "[[ 0.  0.  0.  0.  0.]\n",
      " [ 0.  0.  0.  0.  0.]\n",
      " [ 1.  0.  0.  0.  0.]\n",
      " [ 1.  0.  0.  0.  0.]\n",
      " [ 1. -1.  0. -1. -1.]]\n",
      "tensor([0.7515, 0.0672, 0.0961, 0.0462, 0.0389], grad_fn=<SoftmaxBackward0>)\n",
      "0 1\n",
      "0\n",
      "[[ 0.  0.  0.  0.  0.]\n",
      " [-1.  0.  0.  0.  0.]\n",
      " [ 1.  0.  0.  0.  0.]\n",
      " [ 1.  0.  0.  0.  0.]\n",
      " [ 1. -1.  0. -1. -1.]]\n",
      "1-th player turn to act (enter number from 1 to 5)2\n",
      "0\n",
      "[[ 0.  0.  0.  0.  0.]\n",
      " [-1.  0.  0.  0.  0.]\n",
      " [ 1.  0.  0.  0.  0.]\n",
      " [ 1.  1.  0.  0.  0.]\n",
      " [ 1. -1.  0. -1. -1.]]\n",
      "tensor([0.1632, 0.2228, 0.1800, 0.2010, 0.2330], grad_fn=<SoftmaxBackward0>)\n",
      "4 1\n",
      "0\n",
      "[[ 0.  0.  0.  0.  0.]\n",
      " [-1.  0.  0.  0.  0.]\n",
      " [ 1.  0.  0.  0.  0.]\n",
      " [ 1.  1.  0.  0. -1.]\n",
      " [ 1. -1.  0. -1. -1.]]\n",
      "1-th player turn to act (enter number from 1 to 5)2\n",
      "0\n",
      "[[ 0.  0.  0.  0.  0.]\n",
      " [-1.  0.  0.  0.  0.]\n",
      " [ 1.  1.  0.  0.  0.]\n",
      " [ 1.  1.  0.  0. -1.]\n",
      " [ 1. -1.  0. -1. -1.]]\n",
      "tensor([0.0386, 0.8008, 0.0336, 0.0769, 0.0501], grad_fn=<SoftmaxBackward0>)\n",
      "1 1\n",
      "0\n",
      "[[ 0.  0.  0.  0.  0.]\n",
      " [-1. -1.  0.  0.  0.]\n",
      " [ 1.  1.  0.  0.  0.]\n",
      " [ 1.  1.  0.  0. -1.]\n",
      " [ 1. -1.  0. -1. -1.]]\n",
      "1-th player turn to act (enter number from 1 to 5)3\n",
      "0\n",
      "[[ 0.  0.  0.  0.  0.]\n",
      " [-1. -1.  0.  0.  0.]\n",
      " [ 1.  1.  0.  0.  0.]\n",
      " [ 1.  1.  0.  0. -1.]\n",
      " [ 1. -1.  1. -1. -1.]]\n",
      "tensor([0.1005, 0.0340, 0.3284, 0.2368, 0.3003], grad_fn=<SoftmaxBackward0>)\n",
      "2 1\n",
      "0\n",
      "[[ 0.  0.  0.  0.  0.]\n",
      " [-1. -1.  0.  0.  0.]\n",
      " [ 1.  1.  0.  0.  0.]\n",
      " [ 1.  1. -1.  0. -1.]\n",
      " [ 1. -1.  1. -1. -1.]]\n",
      "1-th player turn to act (enter number from 1 to 5)3\n",
      "0\n",
      "[[ 0.  0.  0.  0.  0.]\n",
      " [-1. -1.  0.  0.  0.]\n",
      " [ 1.  1.  1.  0.  0.]\n",
      " [ 1.  1. -1.  0. -1.]\n",
      " [ 1. -1.  1. -1. -1.]]\n",
      "tensor([0.1156, 0.0972, 0.1812, 0.2508, 0.3552], grad_fn=<SoftmaxBackward0>)\n",
      "4 2\n",
      "0\n",
      "[[ 0.  0.  0.  0.  0.]\n",
      " [-1. -1.  0.  0.  0.]\n",
      " [ 1.  1.  1.  0. -1.]\n",
      " [ 1.  1. -1.  0. -1.]\n",
      " [ 1. -1.  1. -1. -1.]]\n",
      "1-th player turn to act (enter number from 1 to 5)4\n",
      "0\n",
      "[[ 0.  0.  0.  0.  0.]\n",
      " [-1. -1.  0.  0.  0.]\n",
      " [ 1.  1.  1.  0. -1.]\n",
      " [ 1.  1. -1.  1. -1.]\n",
      " [ 1. -1.  1. -1. -1.]]\n",
      "tensor([0.1663, 0.2509, 0.0735, 0.2043, 0.3050], grad_fn=<SoftmaxBackward0>)\n",
      "4 4\n",
      "100\n",
      "[[ 0.  0.  0.  0.  0.]\n",
      " [-1. -1.  0.  0. -1.]\n",
      " [ 1.  1.  1.  0. -1.]\n",
      " [ 1.  1. -1.  1. -1.]\n",
      " [ 1. -1.  1. -1. -1.]]\n",
      "ROBOT WIN\n"
     ]
    }
   ],
   "source": [
    "done = False\n",
    "state = env.reset()\n",
    "env.render()\n",
    "t = 0\n",
    "agent.l_epsilon = 0\n",
    "agent.to_cpu()\n",
    "while not done:\n",
    "    if t%2 == 0:\n",
    "        state = state.reshape(-1)\n",
    "        logits = agent.forward_pi(torch.FloatTensor(state*(-1)**(t%2+1)))\n",
    "        print(logits)\n",
    "        action = agent.get_action(state*(-1)**(t%2+1))\n",
    "        print(np.argmax(logits.detach().numpy()),action)\n",
    "        state, reward, done, correct = env.step(np.argmax(logits.detach().numpy()))\n",
    "        print(reward)\n",
    "        env.render()\n",
    "        if done:\n",
    "            print(\"ROBOT WIN\")\n",
    "    else:\n",
    "        action = int(input(f'{env.player_index}-th player turn to act (enter number from 1 to {env.n})')) - 1\n",
    "        state, reward, done, correct = env.step(action)\n",
    "        print(reward)\n",
    "        env.render()\n",
    "        if done:\n",
    "            print(\"YOU WIN\")\n",
    "    t+=1"
   ]
  },
  {
   "cell_type": "code",
   "execution_count": null,
   "id": "4bc30fbd",
   "metadata": {},
   "outputs": [],
   "source": [
    "done = False\n",
    "state = env.reset()\n",
    "env.render()\n",
    "while not done:\n",
    "    action = int(input(f'{env.player_index}-th player turn to act (enter number from 1 to {env.n})')) - 1\n",
    "    state, reward, done, correct = env.step(action)\n",
    "    print(reward)\n",
    "    env.render()"
   ]
  },
  {
   "cell_type": "code",
   "execution_count": 15,
   "id": "218768ab",
   "metadata": {},
   "outputs": [
    {
     "name": "stdout",
     "output_type": "stream",
     "text": [
      "[[-0. -0. -0. -0. -0.]\n",
      " [-0. -0. -0. -0. -0.]\n",
      " [-0. -0. -0. -0. -0.]\n",
      " [-0. -0. -0. -0. -0.]\n",
      " [-0. -0. -0. -0. -0.]]\n",
      "0 False -1\n",
      "[[ 0.  0.  0.  0.  0.]\n",
      " [ 0.  0.  0.  0.  0.]\n",
      " [ 0.  0.  0.  0.  0.]\n",
      " [ 0.  0.  0.  0.  0.]\n",
      " [ 0.  0.  0.  0. -1.]]\n",
      "0 False 1\n",
      "[[-0. -0. -0. -0. -0.]\n",
      " [-0. -0. -0. -0. -0.]\n",
      " [-0. -0. -0. -0. -0.]\n",
      " [-0. -0. -0. -0. -0.]\n",
      " [-0. -0. -1. -0.  1.]]\n",
      "0 False -1\n",
      "[[ 0.  0.  0.  0.  0.]\n",
      " [ 0.  0.  0.  0.  0.]\n",
      " [ 0.  0.  0.  0.  0.]\n",
      " [ 0.  0.  0.  0. -1.]\n",
      " [ 0.  0.  1.  0. -1.]]\n",
      "0 False 1\n",
      "[[-0. -0. -0. -0. -0.]\n",
      " [-0. -0. -0. -0. -0.]\n",
      " [-0. -0. -0. -0. -0.]\n",
      " [-0. -0. -0. -0.  1.]\n",
      " [-0. -1. -1. -0.  1.]]\n",
      "0 False -1\n",
      "[[ 0.  0.  0.  0.  0.]\n",
      " [ 0.  0.  0.  0.  0.]\n",
      " [ 0.  0.  0.  0.  0.]\n",
      " [ 0.  0.  0.  0. -1.]\n",
      " [-1.  1.  1.  0. -1.]]\n",
      "0 False 1\n",
      "[[-0. -0. -0. -0. -0.]\n",
      " [-0. -0. -0. -0. -0.]\n",
      " [-0. -0. -0. -0. -1.]\n",
      " [-0. -0. -0. -0.  1.]\n",
      " [ 1. -1. -1. -0.  1.]]\n",
      "0 False -1\n",
      "[[ 0.  0.  0.  0.  0.]\n",
      " [ 0.  0.  0.  0.  0.]\n",
      " [ 0.  0.  0.  0.  1.]\n",
      " [ 0.  0.  0.  0. -1.]\n",
      " [-1.  1.  1. -1. -1.]]\n",
      "0 False 1\n",
      "[[-0. -0. -0. -0. -0.]\n",
      " [-0. -0. -0. -0. -0.]\n",
      " [-0. -0. -0. -0. -1.]\n",
      " [-0. -1. -0. -0.  1.]\n",
      " [ 1. -1. -1.  1.  1.]]\n",
      "0 False -1\n",
      "[[ 0.  0.  0.  0.  0.]\n",
      " [ 0.  0.  0.  0.  0.]\n",
      " [ 0. -1.  0.  0.  1.]\n",
      " [ 0.  1.  0.  0. -1.]\n",
      " [-1.  1.  1. -1. -1.]]\n",
      "0 False 1\n",
      "[[-0. -0. -0. -0. -0.]\n",
      " [-0. -0. -0. -0. -0.]\n",
      " [-0.  1. -0. -0. -1.]\n",
      " [-0. -1. -0. -1.  1.]\n",
      " [ 1. -1. -1.  1.  1.]]\n",
      "0 False -1\n",
      "[[ 0.  0.  0.  0.  0.]\n",
      " [ 0.  0.  0.  0. -1.]\n",
      " [ 0. -1.  0.  0.  1.]\n",
      " [ 0.  1.  0.  1. -1.]\n",
      " [-1.  1.  1. -1. -1.]]\n",
      "0 False 1\n",
      "[[-0. -0. -0. -0. -0.]\n",
      " [-0. -1. -0. -0.  1.]\n",
      " [-0.  1. -0. -0. -1.]\n",
      " [-0. -1. -0. -1.  1.]\n",
      " [ 1. -1. -1.  1.  1.]]\n",
      "0 False -1\n",
      "[[ 0.  0.  0.  0.  0.]\n",
      " [ 0.  1.  0.  0. -1.]\n",
      " [ 0. -1.  0.  0.  1.]\n",
      " [-1.  1.  0.  1. -1.]\n",
      " [-1.  1.  1. -1. -1.]]\n",
      "0 False 1\n",
      "[[-0. -0. -0. -0. -0.]\n",
      " [-0. -1. -0. -0.  1.]\n",
      " [-0.  1. -0. -0. -1.]\n",
      " [ 1. -1. -1. -1.  1.]\n",
      " [ 1. -1. -1.  1.  1.]]\n",
      "0 False -1\n",
      "[[ 0.  0.  0.  0. -1.]\n",
      " [ 0.  1.  0.  0. -1.]\n",
      " [ 0. -1.  0.  0.  1.]\n",
      " [-1.  1.  1.  1. -1.]\n",
      " [-1.  1.  1. -1. -1.]]\n",
      "0 False 1\n",
      "[[-0. -0. -0. -0.  1.]\n",
      " [-0. -1. -0. -0.  1.]\n",
      " [-0.  1. -0. -1. -1.]\n",
      " [ 1. -1. -1. -1.  1.]\n",
      " [ 1. -1. -1.  1.  1.]]\n",
      "0 False -1\n",
      "[[ 0.  0.  0.  0. -1.]\n",
      " [ 0.  1.  0.  0. -1.]\n",
      " [-1. -1.  0.  1.  1.]\n",
      " [-1.  1.  1.  1. -1.]\n",
      " [-1.  1.  1. -1. -1.]]\n",
      "0 False 1\n",
      "[[-0. -0. -0. -0.  1.]\n",
      " [-1. -1. -0. -0.  1.]\n",
      " [ 1.  1. -0. -1. -1.]\n",
      " [ 1. -1. -1. -1.  1.]\n",
      " [ 1. -1. -1.  1.  1.]]\n",
      "0 False -1\n",
      "[[ 0.  0.  0.  0. -1.]\n",
      " [ 1.  1.  0.  0. -1.]\n",
      " [-1. -1. -1.  1.  1.]\n",
      " [-1.  1.  1.  1. -1.]\n",
      " [-1.  1.  1. -1. -1.]]\n",
      "0 False 1\n",
      "[[-1. -0. -0. -0.  1.]\n",
      " [-1. -1. -0. -0.  1.]\n",
      " [ 1.  1.  1. -1. -1.]\n",
      " [ 1. -1. -1. -1.  1.]\n",
      " [ 1. -1. -1.  1.  1.]]\n",
      "0 False -1\n",
      "[[ 1. -1.  0.  0. -1.]\n",
      " [ 1.  1.  0.  0. -1.]\n",
      " [-1. -1. -1.  1.  1.]\n",
      " [-1.  1.  1.  1. -1.]\n",
      " [-1.  1.  1. -1. -1.]]\n",
      "0 False 1\n",
      "[[-1.  1. -0. -0.  1.]\n",
      " [-1. -1. -0. -1.  1.]\n",
      " [ 1.  1.  1. -1. -1.]\n",
      " [ 1. -1. -1. -1.  1.]\n",
      " [ 1. -1. -1.  1.  1.]]\n",
      "0 False -1\n",
      "[[ 1. -1.  0.  0. -1.]\n",
      " [ 1.  1. -1.  1. -1.]\n",
      " [-1. -1. -1.  1.  1.]\n",
      " [-1.  1.  1.  1. -1.]\n",
      " [-1.  1.  1. -1. -1.]]\n",
      "0 False 1\n",
      "[[-1.  1. -1. -0.  1.]\n",
      " [-1. -1.  1. -1.  1.]\n",
      " [ 1.  1.  1. -1. -1.]\n",
      " [ 1. -1. -1. -1.  1.]\n",
      " [ 1. -1. -1.  1.  1.]]\n",
      "100 True -1\n"
     ]
    }
   ],
   "source": [
    "done = False\n",
    "state = env.reset()\n",
    "t = 0\n",
    "while not done:\n",
    "    print(state*(-1)**(t%2+1))\n",
    "    state = state.reshape(-1)\n",
    "    action = agent.get_action(state)\n",
    "    state, reward, done, correct = env.step(action)\n",
    "    print(reward,done,(-1)**(t%2+1))\n",
    "    t+=1"
   ]
  },
  {
   "cell_type": "code",
   "execution_count": 113,
   "id": "f906e4d9",
   "metadata": {},
   "outputs": [
    {
     "data": {
      "text/plain": [
       "3"
      ]
     },
     "execution_count": 113,
     "metadata": {},
     "output_type": "execute_result"
    }
   ],
   "source": [
    "np.random.randint(4)"
   ]
  },
  {
   "cell_type": "code",
   "execution_count": 115,
   "id": "3c7d1599",
   "metadata": {},
   "outputs": [
    {
     "data": {
      "text/plain": [
       "1"
      ]
     },
     "execution_count": 115,
     "metadata": {},
     "output_type": "execute_result"
    }
   ],
   "source": [
    "False+1"
   ]
  },
  {
   "cell_type": "code",
   "execution_count": 53,
   "id": "6317faa3",
   "metadata": {},
   "outputs": [
    {
     "name": "stdout",
     "output_type": "stream",
     "text": [
      "[[-0. -0. -0. -0. -0.]\n",
      " [-0. -0. -0. -1. -0.]\n",
      " [-1.  1. -0. -1. -0.]\n",
      " [-1.  1. -0.  1. -0.]\n",
      " [ 1.  1. -0. -1. -0.]]\n",
      "0\n",
      "[[ 0.  0.  0.  0.  0.]\n",
      " [-1.  0.  0.  1.  0.]\n",
      " [ 1. -1.  0.  1.  0.]\n",
      " [ 1. -1.  0. -1.  0.]\n",
      " [-1. -1.  0.  1.  0.]]\n",
      "[[ 0. -1.  0.  0.  0.]\n",
      " [ 0.  1.  0. -1.  0.]\n",
      " [ 1. -1.  0.  1.  0.]\n",
      " [-1.  1.  1.  1.  0.]\n",
      " [ 1. -1. -1. -1. -1.]]\n"
     ]
    }
   ],
   "source": [
    "i = 10\n",
    "print(states[i].reshape(5,5))\n",
    "print(actions[i])\n",
    "print(states[i+1].reshape(5,5))\n",
    "print(wins[100].reshape(5,5))"
   ]
  },
  {
   "cell_type": "code",
   "execution_count": 76,
   "id": "4f9be199",
   "metadata": {},
   "outputs": [
    {
     "data": {
      "text/plain": [
       "886"
      ]
     },
     "execution_count": 76,
     "metadata": {},
     "output_type": "execute_result"
    }
   ],
   "source": [
    "len(wins)"
   ]
  },
  {
   "cell_type": "code",
   "execution_count": 60,
   "id": "1d0488f2",
   "metadata": {},
   "outputs": [],
   "source": [
    "net = nn.Sequential(nn.Linear(25, 256), nn.LeakyReLU(0.1),\n",
    "                nn.Linear(256, 256), nn.LeakyReLU(0.1),\n",
    "                nn.Linear(256, 256), nn.LeakyReLU(0.1),\n",
    "                nn.Linear(256, 256), nn.LeakyReLU(0.1),\n",
    "                nn.Linear(256, 1))"
   ]
  },
  {
   "cell_type": "code",
   "execution_count": 64,
   "id": "0e7899a0",
   "metadata": {},
   "outputs": [
    {
     "data": {
      "text/plain": [
       "tensor([[ 0.0047],\n",
       "        [-0.0136],\n",
       "        [-0.0080]], grad_fn=<AddmmBackward0>)"
      ]
     },
     "execution_count": 64,
     "metadata": {},
     "output_type": "execute_result"
    }
   ],
   "source": [
    "net(torch.FloatTensor(wins[1:4]))"
   ]
  },
  {
   "cell_type": "code",
   "execution_count": 85,
   "id": "2be87c7a",
   "metadata": {},
   "outputs": [
    {
     "name": "stdout",
     "output_type": "stream",
     "text": [
      "590\n"
     ]
    },
    {
     "ename": "TypeError",
     "evalue": "only integer scalar arrays can be converted to a scalar index",
     "output_type": "error",
     "traceback": [
      "\u001b[1;31m---------------------------------------------------------------------------\u001b[0m",
      "\u001b[1;31mTypeError\u001b[0m                                 Traceback (most recent call last)",
      "Input \u001b[1;32mIn [85]\u001b[0m, in \u001b[0;36m<cell line: 3>\u001b[1;34m()\u001b[0m\n\u001b[0;32m      1\u001b[0m train_data \u001b[38;5;241m=\u001b[39m wins[:\u001b[38;5;28mint\u001b[39m(\u001b[38;5;28mlen\u001b[39m(wins)\u001b[38;5;241m*\u001b[39m\u001b[38;5;241m2\u001b[39m\u001b[38;5;241m/\u001b[39m\u001b[38;5;241m3\u001b[39m)]\n\u001b[0;32m      2\u001b[0m \u001b[38;5;28mprint\u001b[39m(\u001b[38;5;28mint\u001b[39m(\u001b[38;5;28mlen\u001b[39m(wins)\u001b[38;5;241m*\u001b[39m\u001b[38;5;241m2\u001b[39m\u001b[38;5;241m/\u001b[39m\u001b[38;5;241m3\u001b[39m))\n\u001b[1;32m----> 3\u001b[0m not_wins \u001b[38;5;241m=\u001b[39m \u001b[43mstates\u001b[49m\u001b[43m[\u001b[49m\u001b[43mnp\u001b[49m\u001b[38;5;241;43m.\u001b[39;49m\u001b[43marray\u001b[49m\u001b[43m(\u001b[49m\u001b[43mdones\u001b[49m\u001b[43m)\u001b[49m\u001b[43m \u001b[49m\u001b[38;5;241;43m==\u001b[39;49m\u001b[43m \u001b[49m\u001b[38;5;28;43;01mFalse\u001b[39;49;00m\u001b[43m]\u001b[49m\n\u001b[0;32m      4\u001b[0m \u001b[38;5;28mprint\u001b[39m(np\u001b[38;5;241m.\u001b[39marray(dones))\n\u001b[0;32m      5\u001b[0m \u001b[38;5;28mprint\u001b[39m(\u001b[38;5;28mlen\u001b[39m(dones))\n",
      "\u001b[1;31mTypeError\u001b[0m: only integer scalar arrays can be converted to a scalar index"
     ]
    }
   ],
   "source": [
    "train_data = wins[:int(len(wins)*2/3)]\n",
    "print(int(len(wins)*2/3))\n",
    "not_wins = states[np.array(dones) == False]\n",
    "print(np.array(dones))\n",
    "print(len(dones))\n",
    "idxs = np.random.permutation(len(not_wins))\n",
    "not_wins = not_wins[idxs]\n",
    "\n",
    "print(int(len(wins)))\n",
    "print(int(len(wins)*2/3))\n",
    "print(len(not_wins[:int(len(wins)*2/3)]))\n",
    "train_data.extend(not_wins[:int(len(wins)*2/3)])\n",
    "\n",
    "print(len(train_data))    "
   ]
  },
  {
   "cell_type": "code",
   "execution_count": null,
   "id": "0adf9c68",
   "metadata": {},
   "outputs": [],
   "source": []
  },
  {
   "cell_type": "code",
   "execution_count": null,
   "id": "ea31f1c5",
   "metadata": {},
   "outputs": [],
   "source": []
  },
  {
   "cell_type": "code",
   "execution_count": null,
   "id": "65d84db0",
   "metadata": {},
   "outputs": [],
   "source": []
  },
  {
   "cell_type": "code",
   "execution_count": null,
   "id": "ac4d6b12",
   "metadata": {},
   "outputs": [],
   "source": []
  },
  {
   "cell_type": "code",
   "execution_count": null,
   "id": "9d3ed4b7",
   "metadata": {},
   "outputs": [],
   "source": []
  },
  {
   "cell_type": "code",
   "execution_count": null,
   "id": "3768441a",
   "metadata": {},
   "outputs": [],
   "source": []
  },
  {
   "cell_type": "code",
   "execution_count": null,
   "id": "ba9d8fc3",
   "metadata": {},
   "outputs": [],
   "source": []
  },
  {
   "cell_type": "code",
   "execution_count": null,
   "id": "79a77aca",
   "metadata": {},
   "outputs": [],
   "source": []
  },
  {
   "cell_type": "code",
   "execution_count": null,
   "id": "ff1684d8",
   "metadata": {},
   "outputs": [],
   "source": []
  },
  {
   "cell_type": "code",
   "execution_count": null,
   "id": "cd831429",
   "metadata": {},
   "outputs": [],
   "source": []
  },
  {
   "cell_type": "code",
   "execution_count": null,
   "id": "52230372",
   "metadata": {},
   "outputs": [],
   "source": []
  },
  {
   "cell_type": "code",
   "execution_count": null,
   "id": "1236b573",
   "metadata": {},
   "outputs": [],
   "source": []
  },
  {
   "cell_type": "code",
   "execution_count": null,
   "id": "ebc04e9c",
   "metadata": {},
   "outputs": [],
   "source": []
  },
  {
   "cell_type": "code",
   "execution_count": null,
   "id": "6dd83a37",
   "metadata": {},
   "outputs": [],
   "source": []
  },
  {
   "cell_type": "code",
   "execution_count": null,
   "id": "213150c8",
   "metadata": {},
   "outputs": [],
   "source": []
  },
  {
   "cell_type": "code",
   "execution_count": null,
   "id": "0f733174",
   "metadata": {},
   "outputs": [],
   "source": []
  },
  {
   "cell_type": "code",
   "execution_count": null,
   "id": "2266f60e",
   "metadata": {},
   "outputs": [],
   "source": []
  },
  {
   "cell_type": "code",
   "execution_count": null,
   "id": "25128c35",
   "metadata": {},
   "outputs": [],
   "source": []
  }
 ],
 "metadata": {
  "kernelspec": {
   "display_name": "Python 3 (ipykernel)",
   "language": "python",
   "name": "python3"
  },
  "language_info": {
   "codemirror_mode": {
    "name": "ipython",
    "version": 3
   },
   "file_extension": ".py",
   "mimetype": "text/x-python",
   "name": "python",
   "nbconvert_exporter": "python",
   "pygments_lexer": "ipython3",
   "version": "3.10.4"
  }
 },
 "nbformat": 4,
 "nbformat_minor": 5
}
