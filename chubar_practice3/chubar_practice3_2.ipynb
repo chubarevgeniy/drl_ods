{
 "cells": [
  {
   "cell_type": "code",
   "execution_count": 1,
   "id": "7bfa8b79",
   "metadata": {},
   "outputs": [
    {
     "name": "stderr",
     "output_type": "stream",
     "text": [
      "Warning: Gym version v0.24.0 has a number of critical issues with `gym.make` such that the `reset` and `step` functions are called before returning the environment. It is recommend to downgrading to v0.23.1 or upgrading to v0.25.1\n"
     ]
    }
   ],
   "source": [
    "import numpy as np\n",
    "import time\n",
    "import matplotlib.pyplot as plt\n",
    "from Frozen_Lake import FrozenLakeEnv\n",
    "%matplotlib notebook"
   ]
  },
  {
   "cell_type": "code",
   "execution_count": 2,
   "id": "92b1f4f0",
   "metadata": {},
   "outputs": [],
   "source": [
    "env = FrozenLakeEnv()\n",
    "t = 0"
   ]
  },
  {
   "cell_type": "code",
   "execution_count": 3,
   "id": "0c2996be",
   "metadata": {},
   "outputs": [],
   "source": [
    "def get_q_values(v_values, gamma):\n",
    "    q_values = {}\n",
    "    for state in env.get_all_states():\n",
    "        q_values[state] = {}\n",
    "        for action in env.get_possible_actions(state):\n",
    "            q_values[state][action] = 0\n",
    "            for next_state in env.get_next_states(state, action):\n",
    "                q_values[state][action] += env.get_transition_prob(state, action, next_state) * env.get_reward(state, action, next_state)\n",
    "                q_values[state][action] += gamma * env.get_transition_prob(state, action, next_state) * v_values[next_state]\n",
    "    return q_values\n",
    "\n",
    "def init_v_values(prev = None):\n",
    "    if prev != None:\n",
    "        return prev\n",
    "    v_values = {}\n",
    "    for state in env.get_all_states():\n",
    "        v_values[state] = 0\n",
    "    return v_values\n",
    "\n",
    "def init_policy():\n",
    "    policy = {}\n",
    "    for state in env.get_all_states():\n",
    "        policy[state] = {}\n",
    "        for action in env.get_possible_actions(state):\n",
    "            policy[state][action] = 1 / len(env.get_possible_actions(state))\n",
    "    return policy\n",
    "\n",
    "def policy_evaluation_step(v_values, policy, gamma):\n",
    "    q_values = get_q_values(v_values, gamma)\n",
    "    new_v_values = init_v_values()\n",
    "    for state in env.get_all_states():\n",
    "        new_v_values[state] = 0\n",
    "        for action in env.get_possible_actions(state):\n",
    "            new_v_values[state] += policy[state][action] * q_values[state][action]\n",
    "    return new_v_values\n",
    "\n",
    "def policy_evaluation(policy, gamma, eval_iter_n, eps = 0.000001, v_values_prev = None):\n",
    "    global t\n",
    "    v_values = init_v_values(v_values_prev)\n",
    "    for i in range(eval_iter_n):\n",
    "        v_values_new = policy_evaluation_step(v_values, policy, gamma)\n",
    "        max_dif = float('-inf')\n",
    "        t+=1\n",
    "        for state in v_values:\n",
    "            max_dif = max(max_dif,np.abs(v_values_new[state]-v_values[state]))\n",
    "        v_values = v_values_new\n",
    "        if max_dif < eps:\n",
    "            break\n",
    "    q_values = get_q_values(v_values, gamma)\n",
    "    return q_values, v_values, v_values[(0,0)]\n",
    "\n",
    "def policy_improvement(q_values):\n",
    "    policy = {}\n",
    "    for state in env.get_all_states():\n",
    "        policy[state] = {}\n",
    "        argmax_action = None\n",
    "        max_q_value = float('-inf')\n",
    "        for action in env.get_possible_actions(state): \n",
    "            policy[state][action] = 0\n",
    "            if q_values[state][action] > max_q_value:\n",
    "                argmax_action = action\n",
    "                max_q_value = q_values[state][action]\n",
    "        policy[state][argmax_action] = 1\n",
    "    return policy"
   ]
  },
  {
   "cell_type": "code",
   "execution_count": 4,
   "id": "28947e00",
   "metadata": {},
   "outputs": [],
   "source": [
    "def validate_policy(policy, gamma=1, runs = 1000, traj_len = 1000):\n",
    "    total_rewards = []\n",
    "\n",
    "    for _ in range(runs):\n",
    "        total_reward = 0\n",
    "        state = env.reset()\n",
    "        for step_n in range(traj_len):\n",
    "            action = np.random.choice(env.get_possible_actions(state), p=list(policy[state].values()))\n",
    "            state, reward, done, _ = env.step(action)\n",
    "            total_reward += (gamma**step_n) * reward\n",
    "\n",
    "            if done:\n",
    "                break\n",
    "\n",
    "        total_rewards.append(total_reward)\n",
    "\n",
    "    return np.mean(total_rewards)\n",
    "\n",
    "def policy_calculation(iter_n = 100, eval_iter_n = 100, gamma = 0.9):\n",
    "    policy = init_policy()\n",
    "    v_values = None\n",
    "    for _ in range(iter_n):\n",
    "        q_values, v_values, _ = policy_evaluation(policy, gamma, eval_iter_n, v_values_prev = v_values)\n",
    "        policy = policy_improvement(q_values)\n",
    "    return policy"
   ]
  },
  {
   "cell_type": "code",
   "execution_count": 5,
   "id": "77213c5c",
   "metadata": {},
   "outputs": [
    {
     "name": "stdout",
     "output_type": "stream",
     "text": [
      "0 0 0.9146783960216123\n",
      "0 1 0.9769204788976059\n",
      "0 2 0.9938508891468485\n",
      "1 0 0.9119106972837812\n",
      "1 1 0.9786281919516253\n",
      "1 2 0.9968033270140375\n",
      "2 0 0.9119106972837812\n",
      "2 1 0.9786281919516253\n",
      "2 2 0.9968033270140375\n",
      "total eval_iter_n = 21454\n"
     ]
    }
   ],
   "source": [
    "t = 0\n",
    "iter_n = 10\n",
    "eval_iter_n = 2000\n",
    "gamma_to_test = [0.9995,0.9999, 1]\n",
    "gamma_to_val = [0.9995,0.9999, 1]\n",
    "mean_revard_gamma = [[0 for _ in range(len(gamma_to_val))] for _ in range(len(gamma_to_test))]\n",
    "for i, gamma in enumerate(gamma_to_test):\n",
    "    policy = policy_calculation(iter_n, eval_iter_n, gamma)\n",
    "    for j, gamma_val in enumerate(gamma_to_val):\n",
    "        _, _, rew = policy_evaluation(policy,gamma_val,eval_iter_n)\n",
    "        \n",
    "        mean_revard_gamma[i][j] = rew\n",
    "        print(i,j,rew)\n",
    "        \n",
    "print('total eval_iter_n =',t)\n",
    "mean_revard_gamma = np.array(mean_revard_gamma)"
   ]
  },
  {
   "cell_type": "code",
   "execution_count": 7,
   "id": "41104a87",
   "metadata": {},
   "outputs": [
    {
     "data": {
      "text/plain": [
       "{(0, 0): {'left': 0, 'down': 1, 'right': 0, 'up': 0},\n",
       " (0, 1): {'left': 0, 'down': 0, 'right': 0, 'up': 1},\n",
       " (0, 2): {'left': 0, 'down': 0, 'right': 0, 'up': 1},\n",
       " (0, 3): {'left': 0, 'down': 0, 'right': 0, 'up': 1},\n",
       " (1, 0): {'left': 1, 'down': 0, 'right': 0, 'up': 0},\n",
       " (1, 1): {None: 1},\n",
       " (1, 2): {'left': 0, 'down': 0, 'right': 0, 'up': 1},\n",
       " (1, 3): {None: 1},\n",
       " (2, 0): {'left': 0, 'down': 0, 'right': 0, 'up': 1},\n",
       " (2, 1): {'left': 0, 'down': 1, 'right': 0, 'up': 0},\n",
       " (2, 2): {'left': 1, 'down': 0, 'right': 0, 'up': 0},\n",
       " (2, 3): {None: 1},\n",
       " (3, 0): {None: 1},\n",
       " (3, 1): {'left': 0, 'down': 0, 'right': 1, 'up': 0},\n",
       " (3, 2): {'left': 0, 'down': 1, 'right': 0, 'up': 0},\n",
       " (3, 3): {None: 1}}"
      ]
     },
     "execution_count": 7,
     "metadata": {},
     "output_type": "execute_result"
    }
   ],
   "source": [
    "policy"
   ]
  },
  {
   "cell_type": "code",
   "execution_count": null,
   "id": "1aa16a34",
   "metadata": {},
   "outputs": [],
   "source": []
  }
 ],
 "metadata": {
  "kernelspec": {
   "display_name": "Python 3 (ipykernel)",
   "language": "python",
   "name": "python3"
  },
  "language_info": {
   "codemirror_mode": {
    "name": "ipython",
    "version": 3
   },
   "file_extension": ".py",
   "mimetype": "text/x-python",
   "name": "python",
   "nbconvert_exporter": "python",
   "pygments_lexer": "ipython3",
   "version": "3.10.4"
  }
 },
 "nbformat": 4,
 "nbformat_minor": 5
}
