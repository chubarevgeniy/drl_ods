{
 "cells": [
  {
   "cell_type": "code",
   "execution_count": 1,
   "id": "b4a8569f",
   "metadata": {},
   "outputs": [
    {
     "name": "stderr",
     "output_type": "stream",
     "text": [
      "Warning: Gym version v0.24.0 has a number of critical issues with `gym.make` such that the `reset` and `step` functions are called before returning the environment. It is recommend to downgrading to v0.23.1 or upgrading to v0.25.1\n"
     ]
    }
   ],
   "source": [
    "import gym\n",
    "import numpy as np\n",
    "import torch\n",
    "import torch.nn as nn\n",
    "import matplotlib.pyplot as plt\n",
    "from torch.distributions import Normal"
   ]
  },
  {
   "cell_type": "code",
   "execution_count": 30,
   "id": "550e130e",
   "metadata": {},
   "outputs": [],
   "source": [
    "env = gym.make(\"LunarLander-v2\", continuous = True)"
   ]
  },
  {
   "cell_type": "code",
   "execution_count": 177,
   "id": "b50bef14",
   "metadata": {},
   "outputs": [],
   "source": [
    "def get_action(state):\n",
    "    x,y,vx,vy,f,w,l,r = state\n",
    "    return [(1.5-y)/1.5/8-l*0.35-r*0.35 - vy*0.45,5*f-10*x + w*0.7 - vx*2]"
   ]
  },
  {
   "cell_type": "code",
   "execution_count": 185,
   "id": "b8e7bd7f",
   "metadata": {},
   "outputs": [
    {
     "name": "stdout",
     "output_type": "stream",
     "text": [
      "278.2750931994212\n",
      "278.2750931994212\n"
     ]
    }
   ],
   "source": [
    "state = env.reset()\n",
    "total_reward = 0\n",
    "for t in range(1000):\n",
    "    action = get_action(state)\n",
    "    \n",
    "    state, reward, done, _ = env.step(action)\n",
    "    env.render()\n",
    "\n",
    "    total_reward += reward\n",
    "    if done:\n",
    "        break\n",
    "    \n",
    "print(total_reward)    \n",
    "print(total_reward)"
   ]
  },
  {
   "cell_type": "code",
   "execution_count": 186,
   "id": "08093e99",
   "metadata": {},
   "outputs": [
    {
     "name": "stdout",
     "output_type": "stream",
     "text": [
      "214.4169854675279 -18.99874645107971 244.80894209601433\n"
     ]
    }
   ],
   "source": [
    "runs = 100\n",
    "do_render = False\n",
    "rews = []\n",
    "for i in range(runs):\n",
    "    state = env.reset()\n",
    "    total_reward = 0\n",
    "    for t in range(1000):\n",
    "        action = get_action(state)\n",
    "\n",
    "        state, reward, done, _ = env.step(action)\n",
    "        if do_render:\n",
    "            env.render()\n",
    "        total_reward += reward\n",
    "        if done:\n",
    "            break\n",
    "    rews.append(total_reward)\n",
    "print(np.mean(rews),np.min(rews),np.median(rews))"
   ]
  },
  {
   "cell_type": "code",
   "execution_count": null,
   "id": "7d7a50ea",
   "metadata": {},
   "outputs": [],
   "source": [
    "def get_action(state):\n",
    "    x,y,vx,vy,f,w,l,r = state\n",
    "    return [(1.5-y)/1.5/8-l*0.3-r*0.3 - vy*0.4,5*f-5*x + w*0.3 - vx*1]"
   ]
  }
 ],
 "metadata": {
  "kernelspec": {
   "display_name": "Python 3 (ipykernel)",
   "language": "python",
   "name": "python3"
  },
  "language_info": {
   "codemirror_mode": {
    "name": "ipython",
    "version": 3
   },
   "file_extension": ".py",
   "mimetype": "text/x-python",
   "name": "python",
   "nbconvert_exporter": "python",
   "pygments_lexer": "ipython3",
   "version": "3.10.4"
  }
 },
 "nbformat": 4,
 "nbformat_minor": 5
}
