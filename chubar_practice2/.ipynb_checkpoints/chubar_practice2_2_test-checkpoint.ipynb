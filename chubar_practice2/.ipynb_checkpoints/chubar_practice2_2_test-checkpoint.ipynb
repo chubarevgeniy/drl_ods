{
 "cells": [
  {
   "cell_type": "code",
   "execution_count": 1,
   "id": "ff9eec92",
   "metadata": {},
   "outputs": [
    {
     "name": "stderr",
     "output_type": "stream",
     "text": [
      "Warning: Gym version v0.24.0 has a number of critical issues with `gym.make` such that the `reset` and `step` functions are called before returning the environment. It is recommend to downgrading to v0.23.1 or upgrading to v0.25.1\n",
      "C:\\Users\\boh-b\\AppData\\Local\\Programs\\Python\\Python310\\lib\\site-packages\\torch\\utils\\tensorboard\\__init__.py:2: DeprecationWarning: The distutils package is deprecated and slated for removal in Python 3.12. Use setuptools or check PEP 632 for potential alternatives\n",
      "  from distutils.version import LooseVersion\n"
     ]
    }
   ],
   "source": [
    "import torch\n",
    "from torch import nn \n",
    "import numpy as np\n",
    "import gym\n",
    "import matplotlib.pyplot as plt\n",
    "from torch.utils.tensorboard import SummaryWriter\n",
    "import json"
   ]
  },
  {
   "cell_type": "code",
   "execution_count": 2,
   "id": "24859624",
   "metadata": {},
   "outputs": [],
   "source": [
    "class CEM(nn.Module):\n",
    "    def __init__(self, state_dim, action_dim):\n",
    "        super().__init__()\n",
    "        self.device = torch.device('cuda')\n",
    "        self.state_dim = state_dim\n",
    "        self.action_dim = action_dim\n",
    "        \n",
    "        self.network = nn.Sequential(\n",
    "            nn.Linear(self.state_dim, 10), \n",
    "            nn.LeakyReLU(), \n",
    "            nn.Linear(10, self.action_dim)\n",
    "        )\n",
    "        #self.network.to(self.device)\n",
    "        \n",
    "        self.tanh = nn.Tanh()\n",
    "        self.optimizer = torch.optim.Adam(self.parameters(), lr=0.01)\n",
    "        self.loss = nn.L1Loss()\n",
    "        \n",
    "    def forward(self, _input):\n",
    "        #_input = _input.to(self.device)\n",
    "        return self.network(_input)\n",
    "    \n",
    "    def get_action(self, state, exploration=0):\n",
    "        state = torch.FloatTensor(state)\n",
    "        #logits = self.forward(state).to('cpu')\n",
    "        pure_action = self.forward(state).detach().numpy()\n",
    "        #pure_action += exploration*np.random.randn(self.action_dim)\n",
    "        action = pure_action + exploration*np.random.randn(self.action_dim)\n",
    "        return np.clip(action,-1,1)\n",
    "    \n",
    "    def update_policy(self, elite_trajectories):\n",
    "        elite_states = []\n",
    "        elite_actions = []\n",
    "        for trajectory in elite_trajectories:\n",
    "            elite_states.extend(trajectory['states'])\n",
    "            elite_actions.extend(trajectory['actions'])\n",
    "        elite_states = torch.FloatTensor(np.array(elite_states))\n",
    "        #elite_states = elite_states.to(self.device)\n",
    "        elite_actions = torch.FloatTensor(np.array(elite_actions))\n",
    "        #elite_actions = elite_actions.to(self.device)\n",
    "        for i in range(15):\n",
    "            self.optimizer.zero_grad()\n",
    "            loss = self.loss(self.forward(elite_states), elite_actions)\n",
    "            loss.backward()\n",
    "            self.optimizer.step()\n",
    "        \n",
    "#MountainCarContinuous-v0"
   ]
  },
  {
   "cell_type": "code",
   "execution_count": 3,
   "id": "bdc9f215",
   "metadata": {},
   "outputs": [],
   "source": [
    "def get_trajectory(env, agent, trajectory_len, exploration=0, visualize=False, custom_reward_func = None):\n",
    "    trajectory = {'states':[], 'actions': [], 'total_reward': 0, 'custom_reward': 0}\n",
    "    \n",
    "    state = env.reset()\n",
    "    trajectory['states'].append(state)\n",
    "    for i in range(trajectory_len):\n",
    "        with torch.no_grad():\n",
    "            action = agent.get_action(state, exploration)\n",
    "        trajectory['actions'].append(action)\n",
    "        \n",
    "        state, reward, done, _ = env.step(action)\n",
    "        trajectory['total_reward'] += reward\n",
    "        if custom_reward_func:\n",
    "            reward = custom_reward_func(state) + reward\n",
    "            trajectory['custom_reward'] = np.max([trajectory['custom_reward'],reward])\n",
    "        \n",
    "        if done:\n",
    "            break\n",
    "            \n",
    "        if visualize:\n",
    "            env.render()\n",
    "        \n",
    "        if(i != trajectory_len-1):\n",
    "            trajectory['states'].append(state)\n",
    "    \n",
    "    if visualize:\n",
    "        print(i,trajectory['total_reward'])  \n",
    "    return trajectory"
   ]
  },
  {
   "cell_type": "code",
   "execution_count": 4,
   "id": "03d025c7",
   "metadata": {},
   "outputs": [],
   "source": [
    "def get_elite_trajectories(trajectories, q_param, custom_reward_factor = 0, threshold = None):\n",
    "    total_rewards = [((1-custom_reward_factor)*trajectory['total_reward']+\\\n",
    "                      custom_reward_factor*trajectory['custom_reward']) for trajectory in trajectories]\n",
    "    quantile = np.quantile(total_rewards, q=q_param)\n",
    "    if(threshold != None):\n",
    "        quantile = np.max([threshold,quantile])\n",
    "    return [trajectory for trajectory in trajectories if (1-custom_reward_factor)*trajectory['total_reward']+\\\n",
    "            custom_reward_factor*trajectory['custom_reward'] > quantile]\n",
    "\n",
    "def custom_rev(state):\n",
    "    return 100*np.max([0,state[0]+0.4])"
   ]
  },
  {
   "cell_type": "code",
   "execution_count": 5,
   "id": "6bc488fb",
   "metadata": {},
   "outputs": [],
   "source": [
    "env = gym.make('MountainCarContinuous-v0')\n",
    "state_dim = 2\n",
    "action_dim = 1\n",
    "writer = SummaryWriter()\n",
    "learnin_hist = {'mean_reward': [], \n",
    "                'exploration': [], \n",
    "                'custom_reward_factor': [], \n",
    "                'mean_custom_reward': [], \n",
    "                'm_merged_reward': [],\n",
    "                'validation': []}\n",
    "\n",
    "agent = CEM(state_dim, action_dim)"
   ]
  },
  {
   "cell_type": "code",
   "execution_count": 6,
   "id": "ac3174ba",
   "metadata": {},
   "outputs": [],
   "source": [
    "trajectory_len = 400\n",
    "q_param = 0.92\n",
    "exploration = 1.3\n",
    "e_rate = 0.98\n",
    "custom_reward_factor = 0\n",
    "thresh = 50"
   ]
  },
  {
   "cell_type": "code",
   "execution_count": null,
   "id": "4f3cf178",
   "metadata": {
    "scrolled": true
   },
   "outputs": [
    {
     "name": "stdout",
     "output_type": "stream",
     "text": [
      "\n",
      "episode: 0, mean_total_reward = -23.39338958456358, mean_custom_reward = 22.12649019720535, m_merged_reward = -23.39338958456358\n",
      "1.3\n",
      "\n",
      "episode: 1, mean_total_reward = -24.700952807512387, mean_custom_reward = 20.967089360250142, m_merged_reward = -24.700952807512387\n",
      "empty train\n",
      "1.3\n",
      "\n",
      "episode: 2, mean_total_reward = -24.659729080795746, mean_custom_reward = 21.337544182683082, m_merged_reward = -24.659729080795746\n",
      "empty train\n",
      "1.3\n",
      "\n",
      "episode: 3, mean_total_reward = -24.711837421198965, mean_custom_reward = 19.624248952530824, m_merged_reward = -24.711837421198965\n",
      "empty train\n",
      "1.3\n",
      "\n",
      "episode: 4, mean_total_reward = -24.623974893460378, mean_custom_reward = 19.32056676487801, m_merged_reward = -24.623974893460378\n",
      "empty train\n",
      "1.3\n",
      "\n",
      "episode: 5, mean_total_reward = -24.752621437174554, mean_custom_reward = 20.444426512814317, m_merged_reward = -24.752621437174554\n",
      "empty train\n",
      "1.3\n"
     ]
    }
   ],
   "source": [
    "episode_n = 200\n",
    "trajectory_n = 80\n",
    "\n",
    "for episode in range(0,episode_n):\n",
    "    trajectories = [get_trajectory(env, agent, trajectory_len, exploration,custom_reward_func = custom_rev) for _ in range(trajectory_n)]\n",
    "    \n",
    "    elite_trajectories = get_elite_trajectories(trajectories, q_param, threshold=thresh, custom_reward_factor = custom_reward_factor)\n",
    "    \n",
    "    #write stat\n",
    "    mean_total_reward = np.mean([trajectory['total_reward'] for trajectory in trajectories])\n",
    "    mean_custom_reward = np.mean([trajectory['custom_reward'] for trajectory in trajectories])\n",
    "    writer.add_scalar('m_total_reward', mean_total_reward, episode)\n",
    "    writer.add_scalar('m_custom_reward', mean_custom_reward, episode)\n",
    "    m_merged_reward = (1-custom_reward_factor)*mean_total_reward+\\\n",
    "                      custom_reward_factor*mean_custom_reward\n",
    "    print()\n",
    "    \n",
    "    writer.add_scalar('m_merged_reward', m_merged_reward, episode)\n",
    "    print(f'episode: {episode}, mean_total_reward = {mean_total_reward}, mean_custom_reward = {mean_custom_reward}, m_merged_reward = {m_merged_reward}')\n",
    "    learnin_hist['exploration'].append([episode,exploration])\n",
    "    learnin_hist['mean_reward'].append([episode,mean_total_reward])\n",
    "    learnin_hist['custom_reward_factor'].append([episode,custom_reward_factor])\n",
    "    learnin_hist['m_merged_reward'].append([episode,m_merged_reward])\n",
    "    learnin_hist['mean_custom_reward'].append([episode,mean_custom_reward])\n",
    "    trajectories = [get_trajectory(env, agent, trajectory_len) for _ in range(trajectory_n//8)]\n",
    "    mean_total_reward = np.mean([trajectory['total_reward'] for trajectory in trajectories])\n",
    "    writer.add_scalar('validation', mean_total_reward, episode)\n",
    "    learnin_hist['validation'].append([episode,mean_total_reward])\n",
    "    if mean_total_reward> 75:\n",
    "        torch.save(agent.state_dict(), f'MountainCarContinuous10_{episode}.model')\n",
    "    \n",
    "    #update\n",
    "    if len(elite_trajectories) > 0:\n",
    "        agent.update_policy(elite_trajectories)\n",
    "    else:\n",
    "        print('empty train')\n",
    "    if episode == episode_n//2:\n",
    "        custom_reward_factor = 0\n",
    "        exploration = 0.1\n",
    "        thresh = 50\n",
    "        torch.save(agent.state_dict(), f'MountainCarContinuous10_{episode}.model')\n",
    "    #exploration = 1 - episode/episode_n\n",
    "    #exploration = 1*pow(exploration,0.3)\n",
    "    print(exploration)\n",
    "    #exploration = 0.3*np.abs((rev_factor(episode, 1300, 1700)-0.5))*2\n",
    "    #custom_reward_factor = rev_factor(episode, 1300, 1700)"
   ]
  },
  {
   "cell_type": "code",
   "execution_count": 45,
   "id": "3160472b",
   "metadata": {},
   "outputs": [
    {
     "name": "stdout",
     "output_type": "stream",
     "text": [
      "150 96.9682131673148\n",
      "\n"
     ]
    }
   ],
   "source": [
    "get_trajectory(env, agent, 1000,visualize=True, exploration=0)\n",
    "print()"
   ]
  },
  {
   "cell_type": "code",
   "execution_count": 46,
   "id": "8fe1986d",
   "metadata": {},
   "outputs": [],
   "source": [
    "torch.save(agent.state_dict(), 'MountainCarContinuous10_best.model')"
   ]
  },
  {
   "cell_type": "code",
   "execution_count": 41,
   "id": "16eec1df",
   "metadata": {},
   "outputs": [
    {
     "data": {
      "text/plain": [
       "<All keys matched successfully>"
      ]
     },
     "execution_count": 41,
     "metadata": {},
     "output_type": "execute_result"
    }
   ],
   "source": [
    "agent = CEM(state_dim, action_dim)\n",
    "agent.load_state_dict(torch.load('MountainCarContinuous10_205.model'))\n",
    "#model.eval()"
   ]
  },
  {
   "cell_type": "code",
   "execution_count": 55,
   "id": "200fb8a7",
   "metadata": {},
   "outputs": [
    {
     "data": {
      "image/png": "[encoded data removed]",
      "text/plain": [
       "<Figure size 1008x720 with 2 Axes>"
      ]
     },
     "metadata": {
      "needs_background": "light"
     },
     "output_type": "display_data"
    }
   ],
   "source": [
    "fig = plt.figure(figsize=[14,10])\n",
    "plt.plot(np.array(learnin_hist['validation'])[:,0],np.array(learnin_hist['validation'])[:,1],label='train',c='b')\n",
    "plt.ylabel('mean reward',c='blue')\n",
    "plt.xlabel('episode number')\n",
    "plt.grid(True)\n",
    "plt.twinx()\n",
    "plt.plot(np.array(learnin_hist['exploration'])[:,0],np.array(learnin_hist['exploration'])[:,1],label='exploration',c='r')\n",
    "plt.grid(True)\n",
    "plt.xlabel('episode number')\n",
    "plt.ylabel('exploration factor',c='red')\n",
    "plt.savefig('train.png',dpi=300,bbox_inches='tight',facecolor='white')"
   ]
  },
  {
   "cell_type": "code",
   "execution_count": null,
   "id": "66487367",
   "metadata": {},
   "outputs": [],
   "source": [
    "np."
   ]
  },
  {
   "cell_type": "code",
   "execution_count": null,
   "id": "09f653a3",
   "metadata": {},
   "outputs": [],
   "source": []
  },
  {
   "cell_type": "code",
   "execution_count": null,
   "id": "24cd82f1",
   "metadata": {},
   "outputs": [],
   "source": []
  },
  {
   "cell_type": "code",
   "execution_count": null,
   "id": "1ed17fd1",
   "metadata": {},
   "outputs": [],
   "source": []
  },
  {
   "cell_type": "code",
   "execution_count": 6,
   "id": "9302e273",
   "metadata": {},
   "outputs": [
    {
     "ename": "NameError",
     "evalue": "name 'INF' is not defined",
     "output_type": "error",
     "traceback": [
      "\u001b[1;31m---------------------------------------------------------------------------\u001b[0m",
      "\u001b[1;31mNameError\u001b[0m                                 Traceback (most recent call last)",
      "Input \u001b[1;32mIn [6]\u001b[0m, in \u001b[0;36m<cell line: 1>\u001b[1;34m()\u001b[0m\n\u001b[1;32m----> 1\u001b[0m \u001b[38;5;241m-\u001b[39m\u001b[43mINF\u001b[49m\n",
      "\u001b[1;31mNameError\u001b[0m: name 'INF' is not defined"
     ]
    }
   ],
   "source": []
  },
  {
   "cell_type": "code",
   "execution_count": 10,
   "id": "3523e4b9",
   "metadata": {},
   "outputs": [
    {
     "data": {
      "text/plain": [
       "False"
      ]
     },
     "execution_count": 10,
     "metadata": {},
     "output_type": "execute_result"
    }
   ],
   "source": []
  },
  {
   "cell_type": "code",
   "execution_count": null,
   "id": "238972a4",
   "metadata": {},
   "outputs": [],
   "source": []
  },
  {
   "cell_type": "code",
   "execution_count": null,
   "id": "e0cacb9b",
   "metadata": {},
   "outputs": [],
   "source": []
  }
 ],
 "metadata": {
  "kernelspec": {
   "display_name": "Python 3 (ipykernel)",
   "language": "python",
   "name": "python3"
  },
  "language_info": {
   "codemirror_mode": {
    "name": "ipython",
    "version": 3
   },
   "file_extension": ".py",
   "mimetype": "text/x-python",
   "name": "python",
   "nbconvert_exporter": "python",
   "pygments_lexer": "ipython3",
   "version": "3.10.4"
  }
 },
 "nbformat": 4,
 "nbformat_minor": 5
}
