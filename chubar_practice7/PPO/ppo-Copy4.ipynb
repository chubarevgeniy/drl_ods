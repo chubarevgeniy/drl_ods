{
 "cells": [
  {
   "cell_type": "code",
   "execution_count": 1,
   "id": "55f264fe",
   "metadata": {},
   "outputs": [
    {
     "name": "stderr",
     "output_type": "stream",
     "text": [
      "Warning: Gym version v0.24.0 has a number of critical issues with `gym.make` such that the `reset` and `step` functions are called before returning the environment. It is recommend to downgrading to v0.23.1 or upgrading to v0.25.1\n"
     ]
    }
   ],
   "source": [
    "import gym\n",
    "import numpy as np\n",
    "import torch\n",
    "import torch.nn as nn\n",
    "import matplotlib.pyplot as plt\n",
    "from torch.distributions import Normal"
   ]
  },
  {
   "cell_type": "code",
   "execution_count": 2,
   "id": "ad14606f",
   "metadata": {},
   "outputs": [],
   "source": [
    "%matplotlib inline"
   ]
  },
  {
   "cell_type": "code",
   "execution_count": 24,
   "id": "93c65ec9",
   "metadata": {},
   "outputs": [],
   "source": [
    "class PPO(nn.Module):\n",
    "    def __init__(self, state_dim, action_dim, gamma=0.99, batch_size=128, \n",
    "                 epsilon=0.2, epoch_n=40, pi_lr=1e-4, v_lr=1e-3):\n",
    "\n",
    "        super().__init__()\n",
    "        \n",
    "        self.action_dim = action_dim\n",
    "        \n",
    "        self.device = torch.device('cuda' if torch.cuda.is_available() else 'cpu')\n",
    "        \n",
    "        self.pi_model_base = nn.Sequential(nn.Linear(state_dim, 128), nn.ReLU(),\n",
    "                                      nn.Linear(128, 128), nn.ReLU()).to(self.device)\n",
    "        self.pi_model_m = nn.Sequential(nn.Linear(128, action_dim), nn.Tanh())\n",
    "        self.pi_model_s = nn.Sequential(nn.Linear(128, action_dim))\n",
    "        \n",
    "        self.v_model = nn.Sequential(nn.Linear(state_dim, 128), nn.ReLU(),\n",
    "                                     nn.Linear(128, 128), nn.ReLU(),\n",
    "                                     nn.Linear(128, 1)).to(self.device)\n",
    "        \n",
    "        self.gamma = gamma\n",
    "        self.batch_size = batch_size\n",
    "        self.epsilon = epsilon\n",
    "        self.epoch_n = epoch_n\n",
    "        self.pi_optimizer = torch.optim.Adam(\n",
    "            list(self.pi_model_base.parameters())+list(self.pi_model_m.parameters())+list(self.pi_model_s.parameters()),\n",
    "            lr=pi_lr)\n",
    "        self.v_optimizer = torch.optim.Adam(self.v_model.parameters(), lr=v_lr)\n",
    "        \n",
    "    def forward_pi(self, state):\n",
    "        x = self.pi_model_base(state)\n",
    "        \n",
    "        return self.pi_model_m(x), self.pi_model_s(x)\n",
    "\n",
    "    def get_action(self, state, rand_factor = 1):\n",
    "        mean, log_std = self.forward_pi(torch.FloatTensor(state))\n",
    "        dist = Normal(mean, rand_factor*torch.exp(log_std))\n",
    "        action = dist.sample()\n",
    "        return action.numpy().reshape(self.action_dim)\n",
    "    \n",
    "    def to_cpu(self):\n",
    "        self.pi_model_base.to('cpu')\n",
    "        self.pi_model_m.to('cpu')\n",
    "        self.pi_model_s.to('cpu')\n",
    "        self.v_model.to('cpu')\n",
    "        \n",
    "    def to_dev(self):\n",
    "        self.pi_model_base.to(self.device)\n",
    "        self.pi_model_m.to(self.device)\n",
    "        self.pi_model_s.to(self.device)\n",
    "        self.v_model.to(self.device)\n",
    "\n",
    "    def fit(self, states, actions, rewards, dones):\n",
    "        \n",
    "        states, actions, rewards, dones = map(np.array, [states, actions, rewards, dones])\n",
    "        rewards, dones = rewards.reshape(-1, 1), dones.reshape(-1, 1)\n",
    "\n",
    "        returns = np.zeros(rewards.shape)\n",
    "        returns[-1] = rewards[-1]\n",
    "        for t in range(returns.shape[0] - 2, -1, -1):\n",
    "            returns[t] = rewards[t] + (1 - dones[t]) * self.gamma * returns[t + 1]\n",
    "\n",
    "        states, actions, returns = map(torch.FloatTensor, [states, actions, returns])\n",
    "        states, actions, returns = states.to(self.device), actions.to(self.device), returns.to(self.device)\n",
    "\n",
    "        mean, log_std = self.forward_pi(states)\n",
    "        dist = Normal(mean, torch.exp(log_std))\n",
    "        old_log_probs = dist.log_prob(actions).detach()\n",
    "\n",
    "        for epoch in range(self.epoch_n):\n",
    "            \n",
    "            idxs = np.random.permutation(returns.shape[0])\n",
    "            for i in range(0, returns.shape[0], self.batch_size):\n",
    "                b_idxs = idxs[i: i + self.batch_size]\n",
    "                b_states = states[b_idxs]\n",
    "                b_actions = actions[b_idxs]\n",
    "                b_returns = returns[b_idxs]\n",
    "                b_old_log_probs = old_log_probs[b_idxs]\n",
    "    \n",
    "                b_advantage = b_returns.detach() - self.v_model(b_states)\n",
    "                \n",
    "                b_mean, b_log_std = self.forward_pi(b_states)\n",
    "                b_dist = Normal(b_mean, torch.exp(b_log_std))\n",
    "                b_new_log_probs = b_dist.log_prob(b_actions)\n",
    "    \n",
    "                b_ratio = torch.exp(b_new_log_probs - b_old_log_probs)\n",
    "                pi_loss_1 = b_ratio * b_advantage.detach()\n",
    "                pi_loss_2 = torch.clamp(b_ratio, 1. - self.epsilon,  1. + self.epsilon) * b_advantage.detach()\n",
    "                pi_loss = - torch.mean(torch.min(pi_loss_1, pi_loss_2))\n",
    "                \n",
    "                pi_loss.backward()\n",
    "                self.pi_optimizer.step()\n",
    "                self.pi_optimizer.zero_grad()\n",
    "                \n",
    "                v_loss = torch.mean(b_advantage ** 2)\n",
    "    \n",
    "                v_loss.backward()\n",
    "                self.v_optimizer.step()\n",
    "                self.v_optimizer.zero_grad()"
   ]
  },
  {
   "cell_type": "code",
   "execution_count": 25,
   "id": "6bdae76e",
   "metadata": {},
   "outputs": [],
   "source": [
    "env = gym.make(\"LunarLander-v2\", continuous = True)\n",
    "state_dim = env.observation_space.shape[0]\n",
    "action_dim = env.action_space.shape[0]\n",
    "\n",
    "agent = PPO(state_dim, action_dim)\n",
    "\n",
    "total_rewards = []"
   ]
  },
  {
   "cell_type": "code",
   "execution_count": 26,
   "id": "e4529cdb",
   "metadata": {},
   "outputs": [
    {
     "name": "stdout",
     "output_type": "stream",
     "text": [
      "CPU times: total: 9min 55s\n",
      "Wall time: 59min 32s\n"
     ]
    }
   ],
   "source": [
    "%%time\n",
    "\n",
    "episode_n = 50\n",
    "trajectory_n = 20\n",
    "\n",
    "for episode in range(episode_n):\n",
    "\n",
    "    states, actions, rewards, dones = [], [], [], []\n",
    "    \n",
    "    agent.to_cpu()\n",
    "    for _ in range(trajectory_n):\n",
    "        total_reward = 0\n",
    "\n",
    "        state = env.reset()\n",
    "        for t in range(1000):\n",
    "            states.append(state)\n",
    "            \n",
    "            action = agent.get_action(state)\n",
    "            actions.append(action)\n",
    "            \n",
    "            state, reward, done, _ = env.step(action)\n",
    "            rewards.append(reward)\n",
    "            dones.append(done)\n",
    "\n",
    "            total_reward += reward\n",
    "            if done:\n",
    "                break\n",
    "            \n",
    "        total_rewards.append(total_reward)\n",
    "    agent.to_dev()\n",
    "    agent.fit(states, actions, rewards, dones)\n",
    "    \n",
    "    print(episode,total_reward,end='\\r')"
   ]
  },
  {
   "cell_type": "code",
   "execution_count": 27,
   "id": "b2e0bd8f",
   "metadata": {},
   "outputs": [],
   "source": [
    "hist = np.array([[i for i in range(len(total_rewards))],total_rewards]).T"
   ]
  },
  {
   "cell_type": "code",
   "execution_count": 28,
   "id": "b03f8c0c",
   "metadata": {},
   "outputs": [],
   "source": [
    "np.savetxt('ppo4.txt',hist)"
   ]
  },
  {
   "cell_type": "code",
   "execution_count": 29,
   "id": "0d294595",
   "metadata": {},
   "outputs": [
    {
     "data": {
      "text/plain": [
       "[<matplotlib.lines.Line2D at 0x20b970fd510>]"
      ]
     },
     "execution_count": 29,
     "metadata": {},
     "output_type": "execute_result"
    },
    {
     "data": {
      "image/png": "[encoded data removed]",
      "text/plain": [
       "<Figure size 432x288 with 1 Axes>"
      ]
     },
     "metadata": {
      "needs_background": "light"
     },
     "output_type": "display_data"
    }
   ],
   "source": [
    "plt.plot(hist[:,1])"
   ]
  },
  {
   "cell_type": "code",
   "execution_count": null,
   "id": "28116afb",
   "metadata": {},
   "outputs": [],
   "source": [
    "#"
   ]
  },
  {
   "cell_type": "code",
   "execution_count": null,
   "id": "4ee32ef9",
   "metadata": {},
   "outputs": [],
   "source": []
  },
  {
   "cell_type": "code",
   "execution_count": null,
   "id": "88450696",
   "metadata": {},
   "outputs": [],
   "source": []
  },
  {
   "cell_type": "code",
   "execution_count": null,
   "id": "81af2d48",
   "metadata": {},
   "outputs": [],
   "source": []
  },
  {
   "cell_type": "code",
   "execution_count": null,
   "id": "ca5c603d",
   "metadata": {},
   "outputs": [],
   "source": []
  },
  {
   "cell_type": "code",
   "execution_count": null,
   "id": "2c93104c",
   "metadata": {},
   "outputs": [],
   "source": []
  }
 ],
 "metadata": {
  "kernelspec": {
   "display_name": "Python 3 (ipykernel)",
   "language": "python",
   "name": "python3"
  },
  "language_info": {
   "codemirror_mode": {
    "name": "ipython",
    "version": 3
   },
   "file_extension": ".py",
   "mimetype": "text/x-python",
   "name": "python",
   "nbconvert_exporter": "python",
   "pygments_lexer": "ipython3",
   "version": "3.10.4"
  }
 },
 "nbformat": 4,
 "nbformat_minor": 5
}
