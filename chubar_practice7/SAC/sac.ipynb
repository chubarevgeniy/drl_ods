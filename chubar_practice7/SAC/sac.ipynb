{
 "cells": [
  {
   "cell_type": "code",
   "execution_count": 1,
   "id": "8be7a8b4-4156-4347-93f9-50bb1470e6c0",
   "metadata": {},
   "outputs": [
    {
     "name": "stderr",
     "output_type": "stream",
     "text": [
      "Warning: Gym version v0.24.0 has a number of critical issues with `gym.make` such that the `reset` and `step` functions are called before returning the environment. It is recommend to downgrading to v0.23.1 or upgrading to v0.25.1\n"
     ]
    }
   ],
   "source": [
    "import gym\n",
    "import torch\n",
    "import torch.nn as nn\n",
    "import numpy as np\n",
    "import random\n",
    "import matplotlib.pyplot as plt\n",
    "from copy import deepcopy\n",
    "from torch.distributions import MultivariateNormal\n",
    "from datetime import datetime"
   ]
  },
  {
   "cell_type": "code",
   "execution_count": 2,
   "id": "59712819",
   "metadata": {},
   "outputs": [],
   "source": [
    "class MeanSTDLinear(nn.Module):\n",
    "    def __init__(self, input_dim, output_dim, mean_activation = None, std_activation = None):\n",
    "        super().__init__()\n",
    "        \n",
    "        self.mean = nn.Linear(input_dim,output_dim)\n",
    "        self.std = nn.Linear(input_dim,output_dim)\n",
    "        self.mean_activation = mean_activation\n",
    "        self.std_activation = std_activation\n",
    "        \n",
    "    def forward(self,x):\n",
    "        mean = self.mean(x)\n",
    "        std = self.std(x)\n",
    "        if self.mean_activation:\n",
    "            mean = self.mean_activation(mean)\n",
    "        if self.std_activation:\n",
    "            std = self.std_activation(std)\n",
    "            \n",
    "        return mean,std\n",
    "    \n",
    "class TanhRemap(nn.Module):\n",
    "    def __init__(self, a = 0, b = 1):\n",
    "        super().__init__()\n",
    "        self.a = a\n",
    "        self.b = b\n",
    "        self.tanh = nn.Tanh()\n",
    "        \n",
    "    def forward(self,x):\n",
    "        x = self.tanh(x)\n",
    "        return ((x+1)/2)*(self.b-self.a)+self.a\n",
    "        \n",
    "        \n",
    "        \n",
    "class SAC(nn.Module):\n",
    "    def __init__(self, state_dim, action_dim, gamma=0.99, alpha=1e-1, tau=1e-2, \n",
    "                 batch_size=64, pi_lr=1e-3, q_lr=1e-3):\n",
    "        super().__init__()\n",
    "        self.device = torch.device('cuda' if torch.cuda.is_available() else 'cpu')\n",
    "        self.pi_model = nn.Sequential(nn.Linear(state_dim, 128), nn.ReLU(), \n",
    "                                      nn.Linear(128, 128), nn.ReLU(),  \n",
    "                                      MeanSTDLinear(128, action_dim,\n",
    "                                          nn.Tanh(),\n",
    "                                          TanhRemap(-3,0))).to(self.device)\n",
    "\n",
    "        self.q1_model = nn.Sequential(nn.Linear(state_dim + action_dim, 128), nn.ReLU(), \n",
    "                                      nn.Linear(128, 128), nn.ReLU(), \n",
    "                                      nn.Linear(128, 1)).to(self.device)\n",
    "\n",
    "        self.q2_model = nn.Sequential(nn.Linear(state_dim + action_dim, 128), nn.ReLU(), \n",
    "                                      nn.Linear(128, 128), nn.ReLU(), \n",
    "                                      nn.Linear(128, 1)).to(self.device)\n",
    "\n",
    "        self.gamma = gamma\n",
    "        self.alpha = alpha\n",
    "        self.tau = tau\n",
    "        self.batch_size = batch_size\n",
    "        self.memory = []\n",
    "        self.memory_lim = 40000\n",
    "\n",
    "        self.pi_optimizer = torch.optim.Adam(self.pi_model.parameters(), pi_lr)\n",
    "        self.q1_optimizer = torch.optim.Adam(self.q1_model.parameters(), q_lr)\n",
    "        self.q2_optimizer = torch.optim.Adam(self.q2_model.parameters(), q_lr)\n",
    "        self.q1_target_model = deepcopy(self.q1_model)\n",
    "        self.q2_target_model = deepcopy(self.q2_model)\n",
    "\n",
    "    def get_action(self, state):\n",
    "        state = torch.FloatTensor(state).to(self.device)\n",
    "        action, log_prob, log_stds = self.predict_actions(state)\n",
    "        return action.cpu().detach().numpy(), torch.exp(log_stds).cpu().detach().numpy()\n",
    "\n",
    "    def fit(self, state, action, reward, done, next_state, do_update_pi = True):\n",
    "        self.memory.append([state, action, reward, done, next_state])\n",
    "\n",
    "        if len(self.memory) > self.batch_size:\n",
    "            if len(self.memory) > self.memory_lim:\n",
    "                self.memory = self.memory[-self.memory_lim:]\n",
    "            batch = random.sample(self.memory, self.batch_size)\n",
    "            states, actions, rewards, dones, next_states = map(torch.FloatTensor, zip(*batch))\n",
    "            states, actions, rewards, dones, next_states = states.to(self.device), actions.to(self.device), rewards.to(self.device), dones.to(self.device), next_states.to(self.device)\n",
    "\n",
    "            rewards, dones = rewards.unsqueeze(1), dones.unsqueeze(1)\n",
    "            \n",
    "            next_actions, next_log_probs, _ = self.predict_actions(next_states)\n",
    "            next_log_probs = next_log_probs.unsqueeze(1)\n",
    "            next_states_and_actions = torch.concat((next_states, next_actions), dim=1)\n",
    "            next_q1_values = self.q1_target_model(next_states_and_actions)\n",
    "            next_q2_values = self.q2_target_model(next_states_and_actions)\n",
    "            next_min_q_values = torch.min(next_q1_values, next_q2_values)\n",
    "            targets = rewards + self.gamma * (1 - dones) * (next_min_q_values - self.alpha * next_log_probs)\n",
    "            states_and_actions = torch.concat((states, actions), dim=1)\n",
    "            q1_loss = torch.mean((self.q1_model(states_and_actions) - targets.detach()) ** 2)\n",
    "            q2_loss = torch.mean((self.q2_model(states_and_actions) - targets.detach()) ** 2)\n",
    "            self.update_model(q1_loss, self.q1_optimizer, self.q1_model, self.q1_target_model)\n",
    "            self.update_model(q2_loss, self.q2_optimizer, self.q2_model, self.q2_target_model)\n",
    "            \n",
    "            if do_update_pi:\n",
    "                pred_actions, log_probs, _ = self.predict_actions(states)\n",
    "                log_probs = log_probs.unsqueeze(1)\n",
    "                states_and_pred_actions = torch.concat((states, pred_actions), dim=1)\n",
    "                q1_values = self.q1_model(states_and_pred_actions)\n",
    "                q2_values = self.q2_model(states_and_pred_actions)\n",
    "                min_q_values = torch.min(q1_values, q2_values)\n",
    "                pi_loss = - torch.mean(min_q_values - self.alpha * log_probs)\n",
    "                self.update_model(pi_loss, self.pi_optimizer)\n",
    "            \n",
    "    def update_model(self, loss, optimizer, model=None, target_model=None):\n",
    "        loss.backward()\n",
    "        optimizer.step()\n",
    "        optimizer.zero_grad()\n",
    "        if model != None and target_model != None:\n",
    "            for param, terget_param in zip(model.parameters(), target_model.parameters()):\n",
    "                new_terget_param = (1 - self.tau) * terget_param + self.tau * param\n",
    "                terget_param.data.copy_(new_terget_param)\n",
    "\n",
    "    def predict_actions(self, states):\n",
    "        means, log_stds = self.pi_model(states)\n",
    "        dists = MultivariateNormal(means, torch.diag_embed(torch.exp(log_stds)))\n",
    "        actions = dists.rsample()\n",
    "        log_probs = dists.log_prob(actions)\n",
    "        return actions, log_probs, log_stds"
   ]
  },
  {
   "cell_type": "code",
   "execution_count": 3,
   "id": "1980dd0d",
   "metadata": {},
   "outputs": [],
   "source": [
    "env = gym.make(\"LunarLander-v2\", continuous = True)\n",
    "state_dim = env.observation_space.shape[0]\n",
    "action_dim = env.action_space.shape[0]\n",
    "\n",
    "agent = SAC(state_dim, action_dim)\n",
    "\n",
    "total_rewards = []\n",
    "propbs = []"
   ]
  },
  {
   "cell_type": "code",
   "execution_count": null,
   "id": "61017857",
   "metadata": {},
   "outputs": [],
   "source": []
  },
  {
   "cell_type": "code",
   "execution_count": 4,
   "id": "7d17058b-597f-4432-a2ea-ea13b2b2899f",
   "metadata": {},
   "outputs": [
    {
     "name": "stderr",
     "output_type": "stream",
     "text": [
      "C:\\Users\\boh-b\\AppData\\Local\\Temp\\ipykernel_15164\\3519913960.py:77: UserWarning: Creating a tensor from a list of numpy.ndarrays is extremely slow. Please consider converting the list to a single numpy.ndarray with numpy.array() before converting to a tensor. (Triggered internally at  ..\\torch\\csrc\\utils\\tensor_new.cpp:204.)\n",
      "  states, actions, rewards, dones, next_states = map(torch.FloatTensor, zip(*batch))\n"
     ]
    },
    {
     "name": "stdout",
     "output_type": "stream",
     "text": [
      "CPU times: total: 19min 2s022890669107437 40000      \n",
      "Wall time: 3h 47min 4s\n"
     ]
    }
   ],
   "source": [
    "%%time\n",
    "\n",
    "episode_n = 600\n",
    "\n",
    "for episode in range(episode_n):\n",
    "\n",
    "    total_reward = 0\n",
    "    mean_prob = 0\n",
    "    state = env.reset()\n",
    "    \n",
    "    for t in range(1000):\n",
    "        action, stds = agent.get_action(state)\n",
    "        mean_prob += np.mean(stds)\n",
    "        next_state, reward, done, _ = env.step(action)\n",
    "    \n",
    "        agent.fit(state, action, reward, done, next_state, do_update_pi=t%2)\n",
    "    \n",
    "        total_reward += reward\n",
    "        state = next_state\n",
    "        if done:\n",
    "            mean_prob /= t+1\n",
    "            break\n",
    "\n",
    "    total_rewards.append(total_reward)\n",
    "    propbs.append(mean_prob)\n",
    "    \n",
    "    print(episode,total_reward,mean_prob,len(agent.memory),'   ',end='\\r')"
   ]
  },
  {
   "cell_type": "code",
   "execution_count": 5,
   "id": "47e8ca86",
   "metadata": {},
   "outputs": [
    {
     "data": {
      "image/png": "[encoded data removed]",
      "text/plain": [
       "<Figure size 432x288 with 1 Axes>"
      ]
     },
     "metadata": {
      "needs_background": "light"
     },
     "output_type": "display_data"
    }
   ],
   "source": [
    "plt.plot(total_rewards)\n",
    "plt.plot(np.array(propbs))\n",
    "plt.title('total_rewards')\n",
    "plt.grid()\n",
    "plt.show()"
   ]
  },
  {
   "cell_type": "code",
   "execution_count": 6,
   "id": "e0ac4d70-b991-445d-9bbb-e6ee9b6ebcbb",
   "metadata": {},
   "outputs": [
    {
     "name": "stdout",
     "output_type": "stream",
     "text": [
      "138.4343242575606\n"
     ]
    }
   ],
   "source": [
    "total_reward = 0\n",
    "state = env.reset()\n",
    "for t in range(500):\n",
    "    action, std = agent.get_action(state)\n",
    "    env.render()\n",
    "    state, reward, done, _ = env.step(action)\n",
    "    total_reward += reward\n",
    "    \n",
    "    if done:\n",
    "        break\n",
    "        \n",
    "print(total_reward)"
   ]
  },
  {
   "cell_type": "code",
   "execution_count": 7,
   "id": "5431ad4a",
   "metadata": {},
   "outputs": [
    {
     "name": "stdout",
     "output_type": "stream",
     "text": [
      "23.54062466088144\n"
     ]
    }
   ],
   "source": [
    "def predict_actions_det(agent, states):\n",
    "    means, log_stds = agent.pi_model(states)\n",
    "    dists = MultivariateNormal(means, 0.0005*torch.diag_embed(torch.exp(log_stds)))\n",
    "    actions = dists.rsample()\n",
    "    log_probs = dists.log_prob(actions)\n",
    "    return actions, log_probs, log_stds\n",
    "\n",
    "def get_action_det(agent, state):\n",
    "    state = torch.FloatTensor(state).to(agent.device)\n",
    "    action, log_prob, log_stds = predict_actions_det(agent,state)\n",
    "    return action.cpu().detach().numpy(), torch.exp(log_stds).cpu().detach().numpy()\n",
    "\n",
    "total_reward = 0\n",
    "state = env.reset()\n",
    "for t in range(500):\n",
    "    action,_ = get_action_det(agent,state)\n",
    "    env.render()\n",
    "    state, reward, done, _ = env.step(action)\n",
    "    total_reward += reward\n",
    "    \n",
    "    if done:\n",
    "        break\n",
    "        \n",
    "print(total_reward)"
   ]
  },
  {
   "cell_type": "code",
   "execution_count": 8,
   "id": "794fb2a1",
   "metadata": {},
   "outputs": [
    {
     "data": {
      "text/plain": [
       "[<matplotlib.lines.Line2D at 0x1da028eaef0>]"
      ]
     },
     "execution_count": 8,
     "metadata": {},
     "output_type": "execute_result"
    },
    {
     "data": {
      "image/png": "[encoded data removed]",
      "text/plain": [
       "<Figure size 432x288 with 1 Axes>"
      ]
     },
     "metadata": {
      "needs_background": "light"
     },
     "output_type": "display_data"
    }
   ],
   "source": [
    "hist = np.array([[i for i in range(len(total_rewards))],total_rewards]).T\n",
    "plt.plot(hist[:,1])"
   ]
  },
  {
   "cell_type": "code",
   "execution_count": 9,
   "id": "b0c98d5f",
   "metadata": {},
   "outputs": [],
   "source": [
    "np.savetxt('sac0.txt',hist)"
   ]
  },
  {
   "cell_type": "code",
   "execution_count": 10,
   "id": "a5df8150",
   "metadata": {},
   "outputs": [
    {
     "data": {
      "text/plain": [
       "[<matplotlib.lines.Line2D at 0x1da20dcad40>]"
      ]
     },
     "execution_count": 10,
     "metadata": {},
     "output_type": "execute_result"
    },
    {
     "data": {
      "image/png": "[encoded data removed]",
      "text/plain": [
       "<Figure size 432x288 with 1 Axes>"
      ]
     },
     "metadata": {
      "needs_background": "light"
     },
     "output_type": "display_data"
    }
   ],
   "source": [
    "hist1 = np.array([[i for i in range(len(propbs))],propbs]).T\n",
    "plt.plot(hist1[:,1])"
   ]
  },
  {
   "cell_type": "code",
   "execution_count": 11,
   "id": "e7cfd6da",
   "metadata": {},
   "outputs": [],
   "source": [
    "np.savetxt('sac0_prob.txt',hist1)"
   ]
  },
  {
   "cell_type": "code",
   "execution_count": null,
   "id": "982f99a5",
   "metadata": {},
   "outputs": [],
   "source": []
  }
 ],
 "metadata": {
  "kernelspec": {
   "display_name": "Python 3 (ipykernel)",
   "language": "python",
   "name": "python3"
  },
  "language_info": {
   "codemirror_mode": {
    "name": "ipython",
    "version": 3
   },
   "file_extension": ".py",
   "mimetype": "text/x-python",
   "name": "python",
   "nbconvert_exporter": "python",
   "pygments_lexer": "ipython3",
   "version": "3.10.4"
  }
 },
 "nbformat": 4,
 "nbformat_minor": 5
}
